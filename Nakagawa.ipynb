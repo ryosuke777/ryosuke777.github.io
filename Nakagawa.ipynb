{
  "nbformat": 4,
  "nbformat_minor": 0,
  "metadata": {
    "colab": {
      "name": "Nakagawa.ipynb",
      "provenance": [],
      "collapsed_sections": [],
      "include_colab_link": true
    },
    "kernelspec": {
      "display_name": "Python 3",
      "name": "python3"
    },
    "language_info": {
      "name": "python"
    }
  },
  "cells": [
    {
      "cell_type": "markdown",
      "metadata": {
        "id": "view-in-github",
        "colab_type": "text"
      },
      "source": [
        "<a href=\"https://colab.research.google.com/github/ryosuke777/ryosuke777.github.io/blob/master/Nakagawa.ipynb\" target=\"_parent\"><img src=\"https://colab.research.google.com/assets/colab-badge.svg\" alt=\"Open In Colab\"/></a>"
      ]
    },
    {
      "cell_type": "code",
      "metadata": {
        "id": "oKRw--uySP3p"
      },
      "source": [
        "a = 1\n",
        "b = 2\n",
        "print(a + b)"
      ],
      "execution_count": null,
      "outputs": []
    },
    {
      "cell_type": "code",
      "metadata": {
        "id": "W0LoGhMHSVAx"
      },
      "source": [
        "price = 100\n",
        "x = int(input('所持金を入力してください >>'))\n",
        "\n",
        "if x > price:\n",
        "  print('買えます！')\n",
        "else:\n",
        "  print('所持金が不足しています')\n"
      ],
      "execution_count": null,
      "outputs": []
    },
    {
      "cell_type": "code",
      "metadata": {
        "id": "o3sQOEagl5xk"
      },
      "source": [
        "import io\n",
        "import requests\n",
        "import PIL.Image\n",
        "\n",
        "response = requests.get(\"https://www.python.jp/logo.png\")\n",
        "PIL.Image.open(io.BytesIO(response.content))"
      ],
      "execution_count": null,
      "outputs": []
    },
    {
      "cell_type": "code",
      "metadata": {
        "id": "5b29SCpilHfq"
      },
      "source": [
        "\n",
        "import matplotlib.pyplot as plt\n",
        "\n",
        "x_values = ['Jan', 'Feb', 'Mar', 'Apr', 'May', 'June']\n",
        "y_values = [100, 130, 80, 150, 500, 130]\n",
        "\n",
        "plt.bar(x_values, y_values)\n",
        "plt.plot()\n",
        "\n",
        "plt.show()"
      ],
      "execution_count": null,
      "outputs": []
    },
    {
      "cell_type": "code",
      "metadata": {
        "id": "Z6xba7DymTnS"
      },
      "source": [
        "100 * 5 + 40 * 8"
      ],
      "execution_count": null,
      "outputs": []
    },
    {
      "cell_type": "code",
      "metadata": {
        "id": "r1a8Utv6nW38"
      },
      "source": [
        "\n",
        "import matplotlib.pyplot as plt\n",
        "\n",
        "x_values = ['Jan', 'Feb', 'Mar', 'Apr', 'May', 'June']\n",
        "y_values = [100, 130, 80, 150, 140, 130]\n",
        "\n",
        "plt.bar(x_values, y_values)\n",
        "plt.plot()\n",
        "\n",
        "plt.show()"
      ],
      "execution_count": null,
      "outputs": []
    },
    {
      "cell_type": "code",
      "metadata": {
        "id": "0_9HAAAXnkZd"
      },
      "source": [
        "import calendar\n",
        "calendar.prmonth(2021,8)"
      ],
      "execution_count": null,
      "outputs": []
    },
    {
      "cell_type": "code",
      "metadata": {
        "id": "SAhk7fj6rpfw"
      },
      "source": [
        "print('python programming')"
      ],
      "execution_count": null,
      "outputs": []
    },
    {
      "cell_type": "code",
      "metadata": {
        "id": "izxFv3U_r5zm"
      },
      "source": [
        "text = input('大文字のアルファベットを入力してください >>')\n",
        "lower = text.lower()\n",
        "print(text + \"を小文字に変換すると\" + lower +\"になります\")"
      ],
      "execution_count": null,
      "outputs": []
    },
    {
      "cell_type": "code",
      "metadata": {
        "id": "_-_0jGT9tsXy"
      },
      "source": [
        "10 < 9"
      ],
      "execution_count": null,
      "outputs": []
    },
    {
      "cell_type": "code",
      "metadata": {
        "id": "cLpQarLXusJz"
      },
      "source": [
        "False.bool"
      ],
      "execution_count": null,
      "outputs": []
    },
    {
      "cell_type": "code",
      "metadata": {
        "id": "o21eI_OovUye"
      },
      "source": [
        "text = \"\"\n",
        "\n",
        "while text != \"finish\":\n",
        "  text = input('finishと入力してください >>')\n",
        "  print(text + 'と入力されました')\n",
        "\n",
        "print(\"終了しました\")"
      ],
      "execution_count": null,
      "outputs": []
    },
    {
      "cell_type": "code",
      "metadata": {
        "id": "QbGh0NLNxkP0"
      },
      "source": [
        "import random\n",
        "import math\n",
        "\n",
        "\n",
        "suika_x = random.randrange(0,5)\n",
        "suika_y = random.randrange(0,5)\n",
        "\n",
        "player_x = random.randrange(0,5)\n",
        "player_y = random.randrange(0,5)\n",
        "\n",
        "diff_x = suika_x - player_x\n",
        "diff_y = suika_y - player_y\n",
        "\n",
        "while suika_x != player_x or suika_y != player_y:\n",
        "  distance = ((suika_x - player_x)*(suika_x - player_x) + (suika_y - player_y)*(suika_y - player_y))**(1/2)\n",
        "\n",
        "  distance2 = math.sqrt(diff_x**2 + diff_y**2)\n",
        "\n",
        "  print('現在のスイカとの距離:'+ str(distance))\n",
        "  #print(distance2)\n",
        "\n",
        "  print('現在のスイカとの距離:'+ str(distance))\n",
        "  c = input(\"n:北に移動 s:南に移動 e:東に移動 w:西に移動\")\n",
        "  if c == \"n\":\n",
        "      player_y = player_y - 1\n",
        "  elif c == \"s\":\n",
        "      player_y = player_y + 1\n",
        "  elif c == \"w\":\n",
        "      player_x = player_x - 1\n",
        "  elif c == \"e\":\n",
        "      player_x = player_x + 1\n",
        "\n",
        "print('スイカを割りました！')"
      ],
      "execution_count": null,
      "outputs": []
    },
    {
      "cell_type": "code",
      "metadata": {
        "id": "hmVRcrbPePfQ"
      },
      "source": [
        ""
      ],
      "execution_count": null,
      "outputs": []
    },
    {
      "cell_type": "code",
      "metadata": {
        "id": "H4PCA6WKy87I"
      },
      "source": [
        "counter = 1\n",
        "number = 0\n",
        "\n",
        "while number <= 9999999:\n",
        "  text = input(\"999以外の数字を入力してください\")\n",
        "  if text == '999':\n",
        "    print('中断します')\n",
        "    break\n",
        "  number = int(text) + number\n",
        "  print(str(counter) + \"回目：\" + str(number) )\n",
        "  counter += 1\n",
        "print('終了！！')"
      ],
      "execution_count": null,
      "outputs": []
    },
    {
      "cell_type": "code",
      "metadata": {
        "id": "z7UFwFxgDilB"
      },
      "source": [
        "i = 0\n",
        "while i < 10:\n",
        "  i = i + 1\n",
        "\n",
        "  if (i % 2) == 1:\n",
        "    continue\n",
        "  \n",
        "  print(i, \"is even.\")"
      ],
      "execution_count": null,
      "outputs": []
    },
    {
      "cell_type": "code",
      "metadata": {
        "id": "ikU4mrgpKNqL"
      },
      "source": [
        "peach_price = 100\n",
        "mikan_price = 40\n",
        "print('桃は１個300円、みかんは1個100円です')\n",
        "peach_amount = int(input('桃をいくつ買いますか？ >>'))\n",
        "mikan_amount = int(input('みかんをいくつ買いますか？ >>'))\n",
        "peach_payment = peach_price * peach_amount\n",
        "mikan_payment = mikan_price * mikan_amount\n",
        "total_payment = peach_payment + mikan_payment\n",
        "print(\"合計金額は\" + str(total_payment) + \"円です\")\n",
        "\n",
        "def fruit_price(peach_amount, mikan_amount):\n",
        "    peach_payment = peach_amount * 100\n",
        "    mikan_payment = mikan_amount * 40\n",
        "    total_price =   peach_payment + mikan_payment\n",
        "\n",
        "    return total_price\n",
        "total_price = fruit_price(10, 50)\n",
        "print(\"桃10個みかん50個は\", total_price, \"円です\")"
      ],
      "execution_count": null,
      "outputs": []
    },
    {
      "cell_type": "code",
      "metadata": {
        "id": "bJv6Xf71ONnv"
      },
      "source": [
        "global_value = 200\n",
        "\n",
        "def test_global(arg):\n",
        "    # ローカル変数 arg と グローバル変数 global_value の積\n",
        "    return arg * global_value\n",
        "\n",
        "print(test_global(10)) # 10 * 100\n"
      ],
      "execution_count": null,
      "outputs": []
    },
    {
      "cell_type": "code",
      "metadata": {
        "id": "AuKoLXp4VJkm"
      },
      "source": [
        "def func1(name):\n",
        "  print(\"Hello\", name, \", this is func1.\")\n",
        "\n",
        "def func2():\n",
        "  func1(\"func2\")\n",
        "\n",
        "func2()"
      ],
      "execution_count": null,
      "outputs": []
    },
    {
      "cell_type": "code",
      "metadata": {
        "id": "aKCn5P85XLLn"
      },
      "source": [
        "import time\n",
        "\n",
        "def print_time():\n",
        "  now = time.asctime()\n",
        "  print(\"It is\", now)\n",
        "\n",
        "print_time()"
      ],
      "execution_count": null,
      "outputs": []
    },
    {
      "cell_type": "code",
      "metadata": {
        "id": "U0T1nEbEY0sx"
      },
      "source": [
        "def func(arg1, arg2, arg3):\n",
        "    print(\"arg1は:\", arg1, \"arg2は:\", arg2, \"arg3は:\", arg3)\n",
        "func(\"引数1\", \"引数２\", \"引数3\")\n"
      ],
      "execution_count": null,
      "outputs": []
    },
    {
      "cell_type": "code",
      "metadata": {
        "id": "oaPxk10nfZ2a"
      },
      "source": [
        ""
      ],
      "execution_count": null,
      "outputs": []
    },
    {
      "cell_type": "code",
      "metadata": {
        "id": "APb2HmiTfZ39"
      },
      "source": [
        "def func1(arg = 999):\n",
        "  print(arg)\n",
        "func1(123)"
      ],
      "execution_count": null,
      "outputs": []
    },
    {
      "cell_type": "code",
      "metadata": {
        "id": "NxUow7Pvfwx1"
      },
      "source": [
        ""
      ],
      "execution_count": null,
      "outputs": []
    },
    {
      "cell_type": "code",
      "metadata": {
        "id": "t60iOs47fwza"
      },
      "source": [
        "def fruit_price(number_of_momo, number_of_mikan, name=\"上\"):\n",
        "    total_momo = number_of_momo * 200\n",
        "    total_mikan = number_of_mikan * 40\n",
        "    total = total_momo + total_mikan\n",
        "\n",
        "    print(name, \"様: もも\", number_of_momo, \"個と、みかん\", number_of_mikan, \"個で、\", total, \"円です\")\n",
        "momo_amount = int(input('桃の個数'))\n",
        "mikan_amount = int(input('みかんの個数'))\n",
        "customer_name = str(input(\"お名前を入力してください\"))\n",
        "fruit_price(momo_amount, mikan_amount, customer_name)"
      ],
      "execution_count": null,
      "outputs": []
    },
    {
      "cell_type": "code",
      "metadata": {
        "id": "Pg2kQy4whzQX"
      },
      "source": [
        "stations = [\"東京\", \"品川\", \"新横浜\", \"小田原\", \"熱海\"]\n",
        "print(stations)"
      ],
      "execution_count": null,
      "outputs": []
    },
    {
      "cell_type": "code",
      "metadata": {
        "id": "sBJuQCiwiUPi"
      },
      "source": [
        "cases = [100, 125, 110, 135, 93, 95, 93]\n",
        "cases.append(99)\n",
        "cases.insert(3,30)\n",
        "print(cases)"
      ],
      "execution_count": null,
      "outputs": []
    },
    {
      "cell_type": "code",
      "metadata": {
        "id": "ZhdXa5aAkXCo"
      },
      "source": [
        "cases = [100, 125, 110, 135, 93, 95, 93]\n",
        "print(cases)"
      ],
      "execution_count": null,
      "outputs": []
    },
    {
      "cell_type": "code",
      "metadata": {
        "id": "hoAfrHcQkbJR"
      },
      "source": [
        "cases = [100, 125, 110, 135, 93, 95, 93]\n",
        "\n",
        "index = 0\n",
        "total = 0\n",
        "\n",
        "while index < len(cases):\n",
        "  case_of_day = cases[index]\n",
        "  total = total + case_of_day\n",
        "  index +=1\n",
        "\n",
        "print(\"合計感染者数は\", total, \"人です\")"
      ],
      "execution_count": null,
      "outputs": []
    },
    {
      "cell_type": "code",
      "metadata": {
        "id": "FftSzyzdlfwk"
      },
      "source": [
        "values = [1, 2, 3, 4]\n",
        "\n",
        "for value in values:\n",
        "    print(\"valueは\", value, \"value*valueは\", value*value)"
      ],
      "execution_count": null,
      "outputs": []
    },
    {
      "cell_type": "code",
      "metadata": {
        "id": "Tw8p9-ZPm3B9"
      },
      "source": [
        "values = [1, 2, 3, 4]\n",
        "len_values = len(values) # valuesの要素数を求める\n",
        "\n",
        "index = 0 # インデックス値の初期値 0 を設定\n",
        "\n",
        "while index < len_values: # インデックス値 < len_values の間、ループを繰り返す\n",
        "    value = values[index]\n",
        "    print(\"valueは\", value, \"value*valueは\", value*value)\n",
        "    index = index + 1 # index に 1 を加算"
      ],
      "execution_count": null,
      "outputs": []
    },
    {
      "cell_type": "code",
      "metadata": {
        "id": "teJTRO41nFqj"
      },
      "source": [
        "cases = [100, 125, 110, 135, 93, 95, 93]\n",
        "\n",
        "total = 0\n",
        "for case_of_day in cases:\n",
        "  total = total + case_of_day\n",
        "\n",
        "print(\"合計感染者数は\", total, \"人です\")"
      ],
      "execution_count": null,
      "outputs": []
    },
    {
      "cell_type": "code",
      "metadata": {
        "id": "CeYTVjT3pYyn"
      },
      "source": [
        "stations = [\"東京\", \"品川\", \"新横浜\", \"小田原\", \"熱海\"]\n",
        "\n",
        "english_words = {\"apple\": \"りんご\", \"orange\": \"みかん\", \"peach\": \"もも\"}\n",
        "print(english_words)\n"
      ],
      "execution_count": null,
      "outputs": []
    },
    {
      "cell_type": "code",
      "metadata": {
        "id": "zjQdyJfbqQ9w"
      },
      "source": [
        "dict_obj = {}\n",
        "dict_obj[\"dog\"] = \"犬\"\n",
        "\n",
        "print(dict_obj[\"dog\"])"
      ],
      "execution_count": null,
      "outputs": []
    },
    {
      "cell_type": "code",
      "metadata": {
        "id": "QFPl8T_Aqgjr"
      },
      "source": [
        "english_words = {\"apple\": \"りんご\", \"orange\": \"みかん\", \"peach\": \"もも\"}\n",
        "\n",
        "word = input('英単語を入力してください')\n",
        "if word in english_words:\n",
        "  print(english_words[word])\n",
        "else:\n",
        "  print('登録されていません')"
      ],
      "execution_count": null,
      "outputs": []
    },
    {
      "cell_type": "code",
      "metadata": {
        "id": "tp1DjBrys-yU"
      },
      "source": [
        "ningyocho = 35.686321, 139.782211\n",
        "print(ningyocho)"
      ],
      "execution_count": null,
      "outputs": []
    },
    {
      "cell_type": "code",
      "metadata": {
        "id": "iI6Vm0SRr4SN"
      },
      "source": [
        "kotoshi = '平成', 2\n",
        "print(kotoshi)"
      ],
      "execution_count": null,
      "outputs": []
    },
    {
      "cell_type": "code",
      "metadata": {
        "id": "Ui88LhD2emfx"
      },
      "source": [
        "import random\n",
        "import math\n",
        "\n",
        "BOARD_SIZE = 5\n",
        "\n",
        "def calc_distance(pos1, pos2):\n",
        "    # ２点間の距離を求める\n",
        "    diff_x = pos1[0] - pos2[0]\n",
        "    diff_y = pos1[1] - pos2[1]\n",
        "    \n",
        "    return math.sqrt(diff_x**2 + diff_y**2)\n",
        "\n",
        "def generate_position(size):\n",
        "\n",
        "  x = random.randrange(0, size)\n",
        "  y = random.randrange(0, size)\n",
        "\n",
        "  return (x, y)\n",
        "\n",
        "def move_position(direction, pos):\n",
        "  current_x, current_y = player_pos\n",
        "\n",
        "  if direction == \"n\":\n",
        "      current_y = current_y - 1\n",
        "  elif direction == \"s\":\n",
        "      current_y = current_y + 1\n",
        "  elif direction == \"w\":\n",
        "      current_x = current_x - 1\n",
        "  elif direction == \"e\":\n",
        "      current_x = current_x + 1\n",
        "  return (current_x, current_y)\n",
        "\n",
        "def suika_wari():\n",
        "  suika_pos = generate_position(BOARD_SIZE)\n",
        "  player_pos = generate_position(BOARD_SIZE)\n",
        "  print('スイカの位置は', suika_pos)\n",
        "  print('プレイヤーの位置は', player_pos)\n",
        "\n",
        "\n",
        "  player_x = random.randrange(0, BOARD_SIZE) # プレイヤーのx座標\n",
        "  player_y = random.randrange(0, BOARD_SIZE) # プレイヤーのy座標\n",
        "\n",
        "  # スイカとプレイヤーの位置が異なる間、処理を繰り返す\n",
        "  while suika_pos != player_pos:\n",
        "\n",
        "      # スイカとプレイヤーの距離を表示する\n",
        "      distance = calc_distance(suika_pos, player_pos)\n",
        "      print(\"スイカへの距離:\", distance)\n",
        "      \n",
        "      # キー入力に応じて、プレイヤーを移動する\n",
        "      c = input(\"n:北に移動 s:南に移動 e:東に移動 w:西に移動\")\n",
        "      player_pos = move_position(c, player_pos) \n",
        "\n",
        "  print(\"スイカを割りました！\")"
      ],
      "execution_count": null,
      "outputs": []
    },
    {
      "cell_type": "code",
      "metadata": {
        "id": "1eydzW2xtFbC"
      },
      "source": [
        "import random\n",
        "import math\n",
        "\n",
        "BOARD_SIZE = 5  # ボードの初期サイズ\n",
        "\n",
        "def calc_distance(x1, y1, x2, y2):\n",
        "    # ２点間の距離を求める\n",
        "    diff_x = x1 - x2\n",
        "    diff_y = y1 - y2\n",
        "\n",
        "    return math.sqrt(diff_x**2 + diff_y**2)\n",
        "\n",
        "\n",
        "suika_x = random.randrange(0, BOARD_SIZE)  # スイカのx座標 <- この行を修正\n",
        "suika_y = random.randrange(0, BOARD_SIZE)  # スイカのy座標 <- この行を修正\n",
        "\n",
        "player_x = random.randrange(0, BOARD_SIZE) # プレイヤーのx座標 <- この行を修正\n",
        "player_y = random.randrange(0, BOARD_SIZE) # プレイヤーのy座標 <- この行を修正\n",
        "\n",
        "# スイカとプレイヤーの位置が異なる間、処理を繰り返す\n",
        "while (suika_x != player_x) or (suika_y != player_y):\n",
        "\n",
        "    # スイカとプレイヤーの距離を表示する\n",
        "    distance = calc_distance(player_x, player_y, suika_x, suika_y)\n",
        "    print(\"スイカへの距離:\", distance)\n",
        "\n",
        "    # キー入力に応じて、プレイヤーを移動する\n",
        "    c = input(\"n:北に移動 s:南に移動 e:東に移動 w:西に移動\")\n",
        "    if c == \"n\":\n",
        "        player_y = player_y - 1\n",
        "    elif c == \"s\":\n",
        "        player_y = player_y + 1\n",
        "    elif c == \"w\":\n",
        "        player_x = player_x - 1\n",
        "    elif c == \"e\":\n",
        "        player_x = player_x + 1\n",
        "\n",
        "print(\"スイカを割りました！\")"
      ],
      "execution_count": null,
      "outputs": []
    },
    {
      "cell_type": "code",
      "metadata": {
        "id": "d6dpM8Lv73Sd"
      },
      "source": [
        "l = [2, 4, 6]\n",
        "for x in l:\n",
        "    print(x)\n",
        "\n",
        "m = [x * 2 for x in l]\n",
        "m\n",
        "\n",
        "s = \"abcd\"\n",
        "for x in s:\n",
        "  print(x)"
      ],
      "execution_count": null,
      "outputs": []
    },
    {
      "cell_type": "code",
      "metadata": {
        "id": "NnzNigZx75on"
      },
      "source": [
        "m = [x * 2 for x in l]"
      ],
      "execution_count": null,
      "outputs": []
    },
    {
      "cell_type": "code",
      "metadata": {
        "id": "eB6_tyqy9Dma"
      },
      "source": [
        "[\"*\" + x + \"*\" for x in s]"
      ],
      "execution_count": null,
      "outputs": []
    },
    {
      "cell_type": "code",
      "metadata": {
        "id": "j1Oe889_9oCA"
      },
      "source": [
        "list(s)"
      ],
      "execution_count": null,
      "outputs": []
    },
    {
      "cell_type": "code",
      "metadata": {
        "id": "8omt-kOP90n_"
      },
      "source": [
        "d = {\"a\": 1, \"b\": 2, \"c\": 3}\n",
        "print(d[\"b\"])\n",
        "\n",
        "\"b\" in d\n",
        "\n",
        "d = {}\n",
        "d\n",
        "\n"
      ],
      "execution_count": null,
      "outputs": []
    },
    {
      "cell_type": "code",
      "metadata": {
        "id": "GbaZDKFz_bB0"
      },
      "source": [
        "d = {}\n",
        "d[\"x\"] = 1\n",
        "d[\"y\"] = 2\n",
        "d[\"z\"] = 3\n",
        "print(d)\n",
        "\n",
        "for k in d:\n",
        "  print(k)\n",
        "\n",
        "for x in d.items():\n",
        "  print(x)"
      ],
      "execution_count": null,
      "outputs": []
    },
    {
      "cell_type": "code",
      "metadata": {
        "id": "clxMAZuZB_ZZ"
      },
      "source": [
        "a = set()\n",
        "a.add(1)\n",
        "a.add(2)\n",
        "a.add(3)\n",
        "a.add(3)\n",
        "a\n",
        "\n",
        "2 in a\n",
        "5 in a\n",
        "\n",
        "b = {2, 3, 4} \n",
        "b\n",
        "\n",
        "a & b\n",
        "a | b\n",
        "a - b\n",
        "\n",
        "for x in a:\n",
        "  print(x)"
      ],
      "execution_count": null,
      "outputs": []
    },
    {
      "cell_type": "code",
      "metadata": {
        "id": "5UShJfNqCaYK"
      },
      "source": [
        "def f(a, b):\n",
        "  return a + b"
      ],
      "execution_count": null,
      "outputs": []
    },
    {
      "cell_type": "code",
      "metadata": {
        "id": "mCgbcaWLEYT_"
      },
      "source": [
        "print(f(3, 5))"
      ],
      "execution_count": null,
      "outputs": []
    },
    {
      "cell_type": "code",
      "metadata": {
        "id": "w-FoEcoxEdtL"
      },
      "source": [
        "print(f(2, 1))"
      ],
      "execution_count": null,
      "outputs": []
    },
    {
      "cell_type": "code",
      "metadata": {
        "id": "h1P0MhocEiLt"
      },
      "source": [
        "def g(a, b=100):\n",
        "  return a + b\n",
        "\n",
        "print(g(3))\n",
        "print(g(2, 3))"
      ],
      "execution_count": null,
      "outputs": []
    },
    {
      "cell_type": "code",
      "metadata": {
        "id": "2MgFe4jYGnD3"
      },
      "source": [
        "def h(a, b = 1, c = 1):\n",
        "\treturn a * 100 + b * 10 + c\n",
        "\n",
        "print(h(1, 2, 3))\n",
        "print(h(2))\n",
        "print(h(2, c = 2))\n",
        "print(h(a = 2, c = 3))\n",
        "print(h(b = 2, a = 1,c  = 3))"
      ],
      "execution_count": null,
      "outputs": []
    },
    {
      "cell_type": "code",
      "metadata": {
        "id": "3SQXF09cGn1u"
      },
      "source": [
        "import datetime\n",
        "d = datetime.date(2017, 1, 1)\n",
        "d.year\n",
        "d.weekday()"
      ],
      "execution_count": null,
      "outputs": []
    },
    {
      "cell_type": "code",
      "metadata": {
        "id": "aZUZSgL0IqQX"
      },
      "source": [
        "class Person:\n",
        "  def __init__(self, first_name=\"\", last_name=\"\"):\n",
        "    self.first_name = first_name\n",
        "    self.last_name = last_name\n",
        "\n",
        "person1 = Person(\"John\", \"Smith\")\n",
        "print(person1.first_name, person1.last_name)\n",
        "\n",
        "person2 = Person()\n",
        "person2.first_name = \"Robert\"\n",
        "person2.last_name = \"Johnson\"\n",
        "print(person2.first_name, person2.last_name)\n"
      ],
      "execution_count": null,
      "outputs": []
    },
    {
      "cell_type": "code",
      "metadata": {
        "id": "q_AoKWcwQY1A"
      },
      "source": [
        "class Person:\n",
        "  def __init__(self, first_name=\"\", last_name=\"\"):\n",
        "    self.first_name = first_name\n",
        "    self.last_name = last_name\n",
        "\n",
        "  def get_name(self):\n",
        "    return self.first_name + \" \" + self.last_name\n",
        "\n",
        "  def __str__(self):\n",
        "    return self.last_name + \",\" + self.first_name\n",
        "\n",
        "\n",
        "person1 = Person(\"John\", \"Smith\")\n",
        "print(person1.get_name())\n",
        "print(person1)"
      ],
      "execution_count": null,
      "outputs": []
    },
    {
      "cell_type": "code",
      "metadata": {
        "id": "e_z3-QafThDZ"
      },
      "source": [
        "from datetime import date\n",
        "d = date(2018, 1, 1)\n",
        "d"
      ],
      "execution_count": null,
      "outputs": []
    },
    {
      "cell_type": "code",
      "metadata": {
        "id": "XXe4f_WKUNAo"
      },
      "source": [
        "from datetime import *\n",
        "d = date(2018, 1, 1)\n",
        "d"
      ],
      "execution_count": null,
      "outputs": []
    },
    {
      "cell_type": "code",
      "metadata": {
        "id": "JcscgrngUa2G"
      },
      "source": [
        "import datetime as dt\n",
        "d = dt.date(2018, 1, 1)\n",
        "d"
      ],
      "execution_count": null,
      "outputs": []
    },
    {
      "cell_type": "code",
      "metadata": {
        "id": "3BfHKME3Wxs1"
      },
      "source": [
        "import mod1\n",
        "\n",
        "\n",
        "print(mod1.hello())"
      ],
      "execution_count": null,
      "outputs": []
    },
    {
      "cell_type": "markdown",
      "metadata": {
        "id": "vAw-xmXltO5W"
      },
      "source": [
        ""
      ]
    },
    {
      "cell_type": "code",
      "metadata": {
        "id": "PxgKhx2ztbzl"
      },
      "source": [
        "from google.colab import drive\n",
        "drive.mount('/content/drive')"
      ],
      "execution_count": null,
      "outputs": []
    },
    {
      "cell_type": "markdown",
      "metadata": {
        "id": "OqrclKpEys4J"
      },
      "source": [
        "# 新しいセクション"
      ]
    },
    {
      "cell_type": "markdown",
      "metadata": {
        "id": "-IT2KuFQOT4F"
      },
      "source": [
        "# 新しいセクション"
      ]
    },
    {
      "cell_type": "code",
      "metadata": {
        "id": "FoKEoPcgcLh7"
      },
      "source": [
        "import mod2\n",
        "\n",
        "print(\"Bowwow!!\")\n",
        "mod2.meow()"
      ],
      "execution_count": null,
      "outputs": []
    },
    {
      "cell_type": "code",
      "metadata": {
        "id": "t-xDBNurXsbT"
      },
      "source": [
        "from datetime import date\n",
        "import pickle\n",
        "x = date(2018, 1, 1)\n",
        "print(x)\n",
        "\n",
        "with open(\"today.pkl\", \"wb\") as f:\n",
        "  pickle.dump(x, f, -1)\n",
        "\n",
        "with open(\"today.pkl\",\"rb\") as f:\n",
        "  y = pickle.load(f)\n",
        "  y\n",
        "\n"
      ],
      "execution_count": null,
      "outputs": []
    },
    {
      "cell_type": "code",
      "metadata": {
        "colab": {
          "background_save": true
        },
        "id": "6ZvtmqRE-RJ1"
      },
      "source": [
        "import csv\n",
        "\n",
        "s = 0\n",
        "with open(\"sample.csv\") as f:\n",
        "\treader = csv.reader(f)\n",
        "\tnext(reader)\n",
        "\tfor row in reader:\n",
        "\t\ts += int(row[1])\n",
        "print(s)"
      ],
      "execution_count": null,
      "outputs": []
    },
    {
      "cell_type": "code",
      "metadata": {
        "id": "RrINbsbx-Tq3"
      },
      "source": [
        "import csv\n",
        "\n",
        "data = [[1,\"a\",1.1],\n",
        "        [2,b,1.2],\n",
        "        [3,\"c\",1.3]]\n",
        "\n",
        "with open(\"output.csv\",\"w\") as f:\n",
        "  wr = csv.writer(f)\n",
        "  for row in data:\n",
        "    wr.writerow(row)"
      ],
      "execution_count": null,
      "outputs": []
    },
    {
      "cell_type": "code",
      "metadata": {
        "id": "LebimU63AbDC"
      },
      "source": [
        "import json\n",
        "data = {\"a\":1, \"b\":\"x\", \"c\":[1,2,3],\"d\":{\"a\":1, \"b\":2}}\n",
        "s = json.dumps(data)\n",
        "s\n",
        "\n",
        "data2 = json.loads(s)\n",
        "data2"
      ],
      "execution_count": null,
      "outputs": []
    },
    {
      "cell_type": "code",
      "metadata": {
        "id": "JqYgFbVpFeRX"
      },
      "source": [
        "d = {\"a\":1, \"b\":2, \"c\":3}\n",
        "d[\"d\"]"
      ],
      "execution_count": null,
      "outputs": []
    },
    {
      "cell_type": "code",
      "metadata": {
        "id": "xC9HybYeGI5t"
      },
      "source": [
        "d = {\"a\":1, \"b\":2, \"c\":3}\n",
        "\n",
        "try:\n",
        "\tprint(d[\"d\"])\n",
        "except KeyError:\n",
        "\tprint(\"KeyError!\")\n",
        " "
      ],
      "execution_count": null,
      "outputs": []
    },
    {
      "cell_type": "code",
      "metadata": {
        "id": "eUpGrVs7JSD9"
      },
      "source": [
        "d = {\"a\":1, \"b\":2, \"c\":3}\n",
        "\n",
        "try:\n",
        "\tprint(d[\"d\"])\n",
        "except KeyError as err:\n",
        "\tprint(\"KeyError: {}\".format(err))"
      ],
      "execution_count": null,
      "outputs": []
    },
    {
      "cell_type": "code",
      "metadata": {
        "id": "pyVJGsPVJTPx"
      },
      "source": [
        "d = {\"a\":1, \"b\":2, \"c\":3}\n",
        "\n",
        "try:\n",
        "\tprint(d[\"d\"])\n",
        "except:\n",
        "  print(\"Something is wrong\")"
      ],
      "execution_count": null,
      "outputs": []
    },
    {
      "cell_type": "code",
      "metadata": {
        "id": "GquA71QoLj0d"
      },
      "source": [
        "d = {\"a\":1, \"b\":2, \"c\":3}\n",
        "\n",
        "try:\n",
        "\tprint(d[\"d\"])\n",
        "except Exception as err:\n",
        "  print(type(err))\n",
        "  print(err)"
      ],
      "execution_count": null,
      "outputs": []
    },
    {
      "cell_type": "code",
      "metadata": {
        "id": "ckSCNDmjtJ0a"
      },
      "source": [
        "import numpy as np"
      ],
      "execution_count": null,
      "outputs": []
    },
    {
      "cell_type": "code",
      "metadata": {
        "id": "9wv_aTcXtTzE"
      },
      "source": [
        "a = np.array([1,2,3])"
      ],
      "execution_count": null,
      "outputs": []
    },
    {
      "cell_type": "code",
      "metadata": {
        "id": "iMM-tcdBtbsA"
      },
      "source": [
        "type(a)"
      ],
      "execution_count": null,
      "outputs": []
    },
    {
      "cell_type": "code",
      "metadata": {
        "id": "7RNFPn7BtuHl"
      },
      "source": [
        ""
      ],
      "execution_count": null,
      "outputs": []
    },
    {
      "cell_type": "code",
      "metadata": {
        "id": "fbKSBDGWtuSC"
      },
      "source": [
        "b = np.array([[1,2,3], [4,5,6]])"
      ],
      "execution_count": null,
      "outputs": []
    },
    {
      "cell_type": "code",
      "metadata": {
        "id": "xbXIBlb1twOy"
      },
      "source": [
        "a"
      ],
      "execution_count": null,
      "outputs": []
    },
    {
      "cell_type": "code",
      "metadata": {
        "id": "c5kyXiDVtwwL"
      },
      "source": [
        "b"
      ],
      "execution_count": null,
      "outputs": []
    },
    {
      "cell_type": "code",
      "metadata": {
        "id": "_sPxyso4txsf"
      },
      "source": [
        "b.T"
      ],
      "execution_count": null,
      "outputs": []
    },
    {
      "cell_type": "code",
      "metadata": {
        "id": "fqTXx6RxuAhJ"
      },
      "source": [
        "print(b * b.T)"
      ],
      "execution_count": null,
      "outputs": []
    },
    {
      "cell_type": "code",
      "metadata": {
        "id": "2UCTtFcTuC8Q"
      },
      "source": [
        "a.data"
      ],
      "execution_count": null,
      "outputs": []
    },
    {
      "cell_type": "code",
      "metadata": {
        "id": "ddJsdPfLux0k"
      },
      "source": [
        "a.flags"
      ],
      "execution_count": null,
      "outputs": []
    },
    {
      "cell_type": "code",
      "metadata": {
        "id": "xftGf7Q0vQpH"
      },
      "source": [
        "b.flags"
      ],
      "execution_count": null,
      "outputs": []
    },
    {
      "cell_type": "code",
      "metadata": {
        "id": "nPbFp52RvVwP"
      },
      "source": [
        "a"
      ],
      "execution_count": null,
      "outputs": []
    },
    {
      "cell_type": "code",
      "metadata": {
        "id": "OKNq6e8Lvb4p"
      },
      "source": [
        "a.flat[0]"
      ],
      "execution_count": null,
      "outputs": []
    },
    {
      "cell_type": "code",
      "metadata": {
        "id": "xaU5E0e6vgOF"
      },
      "source": [
        "b.flat[6]"
      ],
      "execution_count": null,
      "outputs": []
    },
    {
      "cell_type": "code",
      "metadata": {
        "id": "DW0FPTRyvjVe"
      },
      "source": [
        "b"
      ],
      "execution_count": null,
      "outputs": []
    },
    {
      "cell_type": "code",
      "metadata": {
        "id": "tkaZA5JHvj3Y"
      },
      "source": [
        "c = np.array([1.-2.6j, 2.1+3.J, 4.-3.2j])"
      ],
      "execution_count": null,
      "outputs": []
    },
    {
      "cell_type": "code",
      "metadata": {
        "id": "cxSeXkpIvur-"
      },
      "source": [
        "c.real"
      ],
      "execution_count": null,
      "outputs": []
    },
    {
      "cell_type": "code",
      "metadata": {
        "id": "p5s7RCTovxnN"
      },
      "source": [
        "c.imag"
      ],
      "execution_count": null,
      "outputs": []
    },
    {
      "cell_type": "code",
      "metadata": {
        "id": "r3dfQ7uYv32W"
      },
      "source": [
        "b.size"
      ],
      "execution_count": null,
      "outputs": []
    },
    {
      "cell_type": "code",
      "metadata": {
        "id": "47hFE4nxxJMR"
      },
      "source": [
        "a.itemsize"
      ],
      "execution_count": null,
      "outputs": []
    },
    {
      "cell_type": "code",
      "metadata": {
        "id": "IIEJp2MLxR-j"
      },
      "source": [
        "c.size, c.itemsize"
      ],
      "execution_count": null,
      "outputs": []
    },
    {
      "cell_type": "code",
      "metadata": {
        "id": "r1fNUHB9xfL4"
      },
      "source": [
        "a.nbytes"
      ],
      "execution_count": null,
      "outputs": []
    },
    {
      "cell_type": "code",
      "metadata": {
        "id": "Kl3C373Qxl3t"
      },
      "source": [
        "b.nbytes"
      ],
      "execution_count": null,
      "outputs": []
    },
    {
      "cell_type": "code",
      "metadata": {
        "id": "0jRYBehixuk7"
      },
      "source": [
        "b"
      ],
      "execution_count": null,
      "outputs": []
    },
    {
      "cell_type": "code",
      "metadata": {
        "id": "7ROFhiomxvO6"
      },
      "source": [
        "c.nbytes"
      ],
      "execution_count": null,
      "outputs": []
    },
    {
      "cell_type": "code",
      "metadata": {
        "id": "_Ugk5crax1iW"
      },
      "source": [
        "a.size * a.itemsize == a.nbytes"
      ],
      "execution_count": null,
      "outputs": []
    },
    {
      "cell_type": "code",
      "metadata": {
        "id": "s2zLBRpEx4Xs"
      },
      "source": [
        "a = np.array([[1, 2, 3], [4, 5, 6]])\n",
        "a.shape"
      ],
      "execution_count": null,
      "outputs": []
    },
    {
      "cell_type": "code",
      "metadata": {
        "id": "B8Ppgd-8zuqK"
      },
      "source": [
        "a.ndim"
      ],
      "execution_count": null,
      "outputs": []
    },
    {
      "cell_type": "code",
      "metadata": {
        "id": "uta9J4LOzvT5"
      },
      "source": [
        "import numpy as np"
      ],
      "execution_count": null,
      "outputs": []
    },
    {
      "cell_type": "code",
      "metadata": {
        "id": "90HLellp0ZD2"
      },
      "source": [
        "a = np.arange(6).reshape((3, 2))"
      ],
      "execution_count": null,
      "outputs": []
    },
    {
      "cell_type": "code",
      "metadata": {
        "id": "7w_Nl9jA0bSm"
      },
      "source": [
        "a"
      ],
      "execution_count": null,
      "outputs": []
    },
    {
      "cell_type": "code",
      "metadata": {
        "id": "z-6xmUEE0cfw"
      },
      "source": [
        "a.T"
      ],
      "execution_count": null,
      "outputs": []
    },
    {
      "cell_type": "code",
      "metadata": {
        "id": "j1njW7b90hBV"
      },
      "source": [
        "a = a.T\n",
        "a"
      ],
      "execution_count": null,
      "outputs": []
    },
    {
      "cell_type": "code",
      "metadata": {
        "id": "1x835flK0kVn"
      },
      "source": [
        "a.T"
      ],
      "execution_count": null,
      "outputs": []
    },
    {
      "cell_type": "code",
      "metadata": {
        "id": "avDUJASq0nJf"
      },
      "source": [
        "a = a.T"
      ],
      "execution_count": null,
      "outputs": []
    },
    {
      "cell_type": "code",
      "metadata": {
        "id": "Gd-eK7ZV0owl"
      },
      "source": [
        "a"
      ],
      "execution_count": null,
      "outputs": []
    },
    {
      "cell_type": "code",
      "metadata": {
        "id": "sEo8LTnT0pgo"
      },
      "source": [
        "a.shape"
      ],
      "execution_count": null,
      "outputs": []
    },
    {
      "cell_type": "code",
      "metadata": {
        "id": "9PKQA_va0sPB"
      },
      "source": [
        "b = np.array([a, a])\n",
        "b"
      ],
      "execution_count": null,
      "outputs": []
    },
    {
      "cell_type": "code",
      "metadata": {
        "id": "StdF-HwZ02aG"
      },
      "source": [
        "b.shape"
      ],
      "execution_count": null,
      "outputs": []
    },
    {
      "cell_type": "code",
      "metadata": {
        "id": "3SO-sZQ1062Z"
      },
      "source": [
        "a = np.array([5, 3, 8, 9])"
      ],
      "execution_count": null,
      "outputs": []
    },
    {
      "cell_type": "code",
      "metadata": {
        "id": "sr3Ncbzz3vCY"
      },
      "source": [
        "a"
      ],
      "execution_count": null,
      "outputs": []
    },
    {
      "cell_type": "code",
      "metadata": {
        "id": "96Q6jbjs3vbb"
      },
      "source": [
        " b = a.reshape((2, 2))\n",
        " b"
      ],
      "execution_count": null,
      "outputs": []
    },
    {
      "cell_type": "code",
      "metadata": {
        "id": "qAJJqHjy4Nd-"
      },
      "source": [
        "b\n",
        "b.shape"
      ],
      "execution_count": null,
      "outputs": []
    },
    {
      "cell_type": "code",
      "metadata": {
        "id": "F5iEQvlH4RU4"
      },
      "source": [
        "a"
      ],
      "execution_count": null,
      "outputs": []
    },
    {
      "cell_type": "code",
      "metadata": {
        "id": "DA1csmRp4YP5"
      },
      "source": [
        " b = a.reshape((2, 2))"
      ],
      "execution_count": null,
      "outputs": []
    },
    {
      "cell_type": "code",
      "metadata": {
        "id": "H8teBLEc4iVR"
      },
      "source": [
        "b"
      ],
      "execution_count": null,
      "outputs": []
    },
    {
      "cell_type": "code",
      "metadata": {
        "id": "JIY4oBYx4jXw"
      },
      "source": [
        "a"
      ],
      "execution_count": null,
      "outputs": []
    },
    {
      "cell_type": "code",
      "metadata": {
        "id": "2LMGugMl4khu"
      },
      "source": [
        "a.shape"
      ],
      "execution_count": null,
      "outputs": []
    },
    {
      "cell_type": "code",
      "metadata": {
        "id": "hCAEpFZF4opy"
      },
      "source": [
        "b.shape"
      ],
      "execution_count": null,
      "outputs": []
    },
    {
      "cell_type": "code",
      "metadata": {
        "id": "MhqOYlAc4p7-"
      },
      "source": [
        "a.shape = (4, 1)"
      ],
      "execution_count": null,
      "outputs": []
    },
    {
      "cell_type": "code",
      "metadata": {
        "id": "5sIiYdLO4wDx"
      },
      "source": [
        "a"
      ],
      "execution_count": null,
      "outputs": []
    },
    {
      "cell_type": "code",
      "metadata": {
        "id": "jMNoLem84woO"
      },
      "source": [
        "c = np.arange(12).reshape((3, 4))"
      ],
      "execution_count": null,
      "outputs": []
    },
    {
      "cell_type": "code",
      "metadata": {
        "id": "mAACIRMP4147"
      },
      "source": [
        "c"
      ],
      "execution_count": null,
      "outputs": []
    },
    {
      "cell_type": "code",
      "metadata": {
        "id": "L66PBrde42PE"
      },
      "source": [
        "c.shape=(1, 12)"
      ],
      "execution_count": null,
      "outputs": []
    },
    {
      "cell_type": "code",
      "metadata": {
        "id": "Gsfyel1T470b"
      },
      "source": [
        "c"
      ],
      "execution_count": null,
      "outputs": []
    },
    {
      "cell_type": "code",
      "metadata": {
        "id": "_309nRPc48ii"
      },
      "source": [
        "c.shape=(12, 1)"
      ],
      "execution_count": null,
      "outputs": []
    },
    {
      "cell_type": "code",
      "metadata": {
        "id": "MsK-Mivn5ApT"
      },
      "source": [
        "c"
      ],
      "execution_count": null,
      "outputs": []
    },
    {
      "cell_type": "code",
      "metadata": {
        "id": "ufiwKcad5BmY"
      },
      "source": [
        "c.shape=(1, 12)\n",
        "c"
      ],
      "execution_count": null,
      "outputs": []
    },
    {
      "cell_type": "code",
      "metadata": {
        "id": "ONkLUhI-5FVj"
      },
      "source": [
        "c.shape=(13,)"
      ],
      "execution_count": null,
      "outputs": []
    },
    {
      "cell_type": "code",
      "metadata": {
        "id": "xUyHxUNA5HhY"
      },
      "source": [
        "a = np.array([1,2,3,4,5])"
      ],
      "execution_count": null,
      "outputs": []
    },
    {
      "cell_type": "code",
      "metadata": {
        "id": "S1hI2Ks75QHd"
      },
      "source": [
        "a.shape"
      ],
      "execution_count": null,
      "outputs": []
    },
    {
      "cell_type": "code",
      "metadata": {
        "id": "CKhELxib5V7Q"
      },
      "source": [
        "b = np.array([[1], [2], [3], [4], [5]]) "
      ],
      "execution_count": null,
      "outputs": []
    },
    {
      "cell_type": "code",
      "metadata": {
        "id": "DrmHZuSV5WZu"
      },
      "source": [
        "b"
      ],
      "execution_count": null,
      "outputs": []
    },
    {
      "cell_type": "code",
      "metadata": {
        "id": "UhVNhMlh5XW9"
      },
      "source": [
        "b.shape"
      ],
      "execution_count": null,
      "outputs": []
    },
    {
      "cell_type": "code",
      "metadata": {
        "id": "YLOSZ9aT5btw"
      },
      "source": [
        "a = np.array([1,2,3])"
      ],
      "execution_count": null,
      "outputs": []
    },
    {
      "cell_type": "code",
      "metadata": {
        "id": "5O-sMBNs6X1t"
      },
      "source": [
        "b = np.array([[1,2,3], [4,5,6]]) "
      ],
      "execution_count": null,
      "outputs": []
    },
    {
      "cell_type": "code",
      "metadata": {
        "id": "c4cvtRRD6Zgq"
      },
      "source": [
        "c = np.array([1.-2.6j, 2.1+3.J, 4.-3.2j])"
      ],
      "execution_count": null,
      "outputs": []
    },
    {
      "cell_type": "code",
      "metadata": {
        "id": "zYWPCRjf6cus"
      },
      "source": [
        "a.ndim"
      ],
      "execution_count": null,
      "outputs": []
    },
    {
      "cell_type": "code",
      "metadata": {
        "id": "GsNI6Rb86gGV"
      },
      "source": [
        "b.ndim\n"
      ],
      "execution_count": null,
      "outputs": []
    },
    {
      "cell_type": "code",
      "metadata": {
        "id": "lOs_hBT56jAA"
      },
      "source": [
        "a.shape"
      ],
      "execution_count": null,
      "outputs": []
    },
    {
      "cell_type": "code",
      "metadata": {
        "id": "5u1clEdy6lbi"
      },
      "source": [
        "b.shape"
      ],
      "execution_count": null,
      "outputs": []
    },
    {
      "cell_type": "code",
      "metadata": {
        "id": "FiblAoWs6peJ"
      },
      "source": [
        "d = np.array([[[2,3,2],[2,2,2]],[[4,3,2],[5,7,1]]])"
      ],
      "execution_count": null,
      "outputs": []
    },
    {
      "cell_type": "code",
      "metadata": {
        "id": "G4eq7TK17FTd"
      },
      "source": [
        "d"
      ],
      "execution_count": null,
      "outputs": []
    },
    {
      "cell_type": "code",
      "metadata": {
        "id": "07RqB7Rl7IQg"
      },
      "source": [
        "d.shape, d.ndim"
      ],
      "execution_count": null,
      "outputs": []
    },
    {
      "cell_type": "code",
      "metadata": {
        "id": "DYvE750a7KL1"
      },
      "source": [
        "a.strides"
      ],
      "execution_count": null,
      "outputs": []
    },
    {
      "cell_type": "code",
      "metadata": {
        "id": "Lv2JKCaJ8ZOG"
      },
      "source": [
        "b.strides"
      ],
      "execution_count": null,
      "outputs": []
    },
    {
      "cell_type": "code",
      "metadata": {
        "id": "fWvQS5g78fUr"
      },
      "source": [
        "a.ctypes.data"
      ],
      "execution_count": null,
      "outputs": []
    },
    {
      "cell_type": "code",
      "metadata": {
        "id": "AwfocjFI8mqO"
      },
      "source": [
        "a.base"
      ],
      "execution_count": null,
      "outputs": []
    },
    {
      "cell_type": "code",
      "metadata": {
        "id": "UsOd2vNE8ryF"
      },
      "source": [
        "e = a[:2]\n"
      ],
      "execution_count": null,
      "outputs": []
    },
    {
      "cell_type": "code",
      "metadata": {
        "id": "CeQPpKz68vPf"
      },
      "source": [
        "e.base"
      ],
      "execution_count": null,
      "outputs": []
    },
    {
      "cell_type": "code",
      "metadata": {
        "id": "mYCcbAr28xVu"
      },
      "source": [
        "e.base is a"
      ],
      "execution_count": null,
      "outputs": []
    },
    {
      "cell_type": "code",
      "metadata": {
        "id": "uOYc0_s39FA0"
      },
      "source": [
        "a.base is e.base"
      ],
      "execution_count": null,
      "outputs": []
    },
    {
      "cell_type": "code",
      "metadata": {
        "id": "2ALYP9X99HxS"
      },
      "source": [
        "a = np.random.randn(100,100)"
      ],
      "execution_count": null,
      "outputs": []
    },
    {
      "cell_type": "code",
      "metadata": {
        "id": "x6tPbemd-Vgf"
      },
      "source": [
        "b = np.array(a, order ='C')\n",
        "c = np.array(a, order ='F')\n",
        " "
      ],
      "execution_count": null,
      "outputs": []
    },
    {
      "cell_type": "code",
      "metadata": {
        "id": "AFK7LjbE-d4b"
      },
      "source": [
        "b.strides, c.strides"
      ],
      "execution_count": null,
      "outputs": []
    },
    {
      "cell_type": "code",
      "metadata": {
        "id": "5QejREEx-eaY"
      },
      "source": [
        "b"
      ],
      "execution_count": null,
      "outputs": []
    },
    {
      "cell_type": "code",
      "metadata": {
        "id": "Lha9-K3a-kYi"
      },
      "source": [
        "c"
      ],
      "execution_count": null,
      "outputs": []
    },
    {
      "cell_type": "code",
      "metadata": {
        "id": "YeHHQds2-tSN"
      },
      "source": [
        "np.allclose(b, c)"
      ],
      "execution_count": null,
      "outputs": []
    },
    {
      "cell_type": "code",
      "metadata": {
        "id": "qB6jIrBp-uE-"
      },
      "source": [
        "np.allclose(b, a) "
      ],
      "execution_count": null,
      "outputs": []
    },
    {
      "cell_type": "code",
      "metadata": {
        "id": "T2rw51A5-ye3"
      },
      "source": [
        "x = np.ones((100000,))"
      ],
      "execution_count": null,
      "outputs": []
    },
    {
      "cell_type": "code",
      "metadata": {
        "id": "w0CFHHqVANpj"
      },
      "source": [
        "y = np.ones((100000*100,))[::100]"
      ],
      "execution_count": null,
      "outputs": []
    },
    {
      "cell_type": "code",
      "metadata": {
        "id": "V7z-IKgOAPpd"
      },
      "source": [
        "x.strides"
      ],
      "execution_count": null,
      "outputs": []
    },
    {
      "cell_type": "code",
      "metadata": {
        "id": "rXYMKVcOAR05"
      },
      "source": [
        "y.strides"
      ],
      "execution_count": null,
      "outputs": []
    },
    {
      "cell_type": "code",
      "metadata": {
        "id": "nZ9iRpmhAUZ_"
      },
      "source": [
        "x.shape, y.shape"
      ],
      "execution_count": null,
      "outputs": []
    },
    {
      "cell_type": "code",
      "metadata": {
        "id": "tIltNclaAXUZ"
      },
      "source": [
        "%timeit x.sum()"
      ],
      "execution_count": null,
      "outputs": []
    },
    {
      "cell_type": "code",
      "metadata": {
        "id": "f2fBzWirAavd"
      },
      "source": [
        "%timeit y.sum()"
      ],
      "execution_count": null,
      "outputs": []
    },
    {
      "cell_type": "code",
      "metadata": {
        "id": "XA7Gd0_tAfaX"
      },
      "source": [
        "y_copy = np.copy(np.ones((100000*100,))[::100])"
      ],
      "execution_count": null,
      "outputs": []
    },
    {
      "cell_type": "code",
      "metadata": {
        "id": "J-2aBKpWAnNi"
      },
      "source": [
        "y_copy.strides"
      ],
      "execution_count": null,
      "outputs": []
    },
    {
      "cell_type": "code",
      "metadata": {
        "id": "bvgQUg8GApLc"
      },
      "source": [
        "%timeit y_copy.sum()"
      ],
      "execution_count": null,
      "outputs": []
    },
    {
      "cell_type": "code",
      "metadata": {
        "id": "elRkhiKBAsLP"
      },
      "source": [
        "a = np.array([1,2,3])"
      ],
      "execution_count": null,
      "outputs": []
    },
    {
      "cell_type": "code",
      "metadata": {
        "id": "wylzo5SiSQEs"
      },
      "source": [
        "b = np.array([[1,1,1],[2,4,1]])"
      ],
      "execution_count": null,
      "outputs": []
    },
    {
      "cell_type": "code",
      "metadata": {
        "id": "d5Q6n9naSSTj"
      },
      "source": [
        "b + a "
      ],
      "execution_count": null,
      "outputs": []
    },
    {
      "cell_type": "code",
      "metadata": {
        "id": "YfhG20PFSVmK"
      },
      "source": [
        " b = np.arange(20).reshape(4,5)"
      ],
      "execution_count": null,
      "outputs": []
    },
    {
      "cell_type": "code",
      "metadata": {
        "id": "WLAhu0afUpjC"
      },
      "source": [
        "b"
      ],
      "execution_count": null,
      "outputs": []
    },
    {
      "cell_type": "code",
      "metadata": {
        "id": "BuQeDwZHUxTg"
      },
      "source": [
        "b[1:3, 2:4]"
      ],
      "execution_count": null,
      "outputs": []
    },
    {
      "cell_type": "code",
      "metadata": {
        "id": "FaAdhiavVHoh"
      },
      "source": [
        "c = np.zeros((3,4,5))\n"
      ],
      "execution_count": null,
      "outputs": []
    },
    {
      "cell_type": "code",
      "metadata": {
        "id": "sWOOTrefXQhH"
      },
      "source": [
        "c\n"
      ],
      "execution_count": null,
      "outputs": []
    },
    {
      "cell_type": "code",
      "metadata": {
        "id": "68qiRWkaXRg9"
      },
      "source": [
        "c[1:,1:4,:] = 1"
      ],
      "execution_count": null,
      "outputs": []
    },
    {
      "cell_type": "code",
      "metadata": {
        "id": "ocL4z_SnZ7Np"
      },
      "source": [
        "c"
      ],
      "execution_count": null,
      "outputs": []
    },
    {
      "cell_type": "code",
      "metadata": {
        "id": "0VfTohbmZ9L9"
      },
      "source": [
        "c = np.zeros((3,4,5)) "
      ],
      "execution_count": null,
      "outputs": []
    },
    {
      "cell_type": "code",
      "metadata": {
        "id": "c99rWokEaAkn"
      },
      "source": [
        "c"
      ],
      "execution_count": null,
      "outputs": []
    },
    {
      "cell_type": "code",
      "metadata": {
        "id": "alje8fedaBfL"
      },
      "source": [
        "c[1:2, 2:3, 2:3] = 1"
      ],
      "execution_count": null,
      "outputs": []
    },
    {
      "cell_type": "code",
      "metadata": {
        "id": "nQW8xJv1aLLv"
      },
      "source": [
        "c"
      ],
      "execution_count": null,
      "outputs": []
    },
    {
      "cell_type": "code",
      "metadata": {
        "id": "Yzmq0H3HaLi-"
      },
      "source": [
        "import numpy as np\n"
      ],
      "execution_count": null,
      "outputs": []
    },
    {
      "cell_type": "code",
      "metadata": {
        "id": "YqcamMvLcyVI"
      },
      "source": [
        "a = np.array([0, 1, 2])"
      ],
      "execution_count": null,
      "outputs": []
    },
    {
      "cell_type": "code",
      "metadata": {
        "id": "zrGVpNNzdAJL"
      },
      "source": [
        "a"
      ],
      "execution_count": null,
      "outputs": []
    },
    {
      "cell_type": "code",
      "metadata": {
        "id": "ABJ-VXN-c0y8"
      },
      "source": [
        "a.dtype"
      ],
      "execution_count": null,
      "outputs": []
    },
    {
      "cell_type": "code",
      "metadata": {
        "id": "udWnneJTc3D1"
      },
      "source": [
        "b = np.array([0, 1, 2], dtype = 'int32') "
      ],
      "execution_count": null,
      "outputs": []
    },
    {
      "cell_type": "code",
      "metadata": {
        "id": "57W_cJnmc6Jv"
      },
      "source": [
        "b"
      ],
      "execution_count": null,
      "outputs": []
    },
    {
      "cell_type": "code",
      "metadata": {
        "id": "YqAicrFVc7XP"
      },
      "source": [
        "b.dtype"
      ],
      "execution_count": null,
      "outputs": []
    },
    {
      "cell_type": "code",
      "metadata": {
        "id": "nZM6mUuTdEUl"
      },
      "source": [
        "c = np.array([0, 1, 2], dtype = 'float') "
      ],
      "execution_count": null,
      "outputs": []
    },
    {
      "cell_type": "code",
      "metadata": {
        "id": "GFpyyNNrdJ56"
      },
      "source": [
        "c"
      ],
      "execution_count": null,
      "outputs": []
    },
    {
      "cell_type": "code",
      "metadata": {
        "id": "JgCgNmFFdK8_"
      },
      "source": [
        "d = np.array([3e50, 4e35], dtype = 'int64')"
      ],
      "execution_count": null,
      "outputs": []
    },
    {
      "cell_type": "code",
      "metadata": {
        "id": "hFEyerQzdPuR"
      },
      "source": [
        "d = np.array([3e50, 4e35], dtype = 'float64')"
      ],
      "execution_count": null,
      "outputs": []
    },
    {
      "cell_type": "code",
      "metadata": {
        "id": "JoNScVTJdUpX"
      },
      "source": [
        "d"
      ],
      "execution_count": null,
      "outputs": []
    },
    {
      "cell_type": "code",
      "metadata": {
        "id": "jXS-GYRVdVGy"
      },
      "source": [
        "e = np.array([3.5, 4.2, -4.3], dtype = 'int') "
      ],
      "execution_count": null,
      "outputs": []
    },
    {
      "cell_type": "code",
      "metadata": {
        "id": "1G63U_Htdo-L"
      },
      "source": [
        "e"
      ],
      "execution_count": null,
      "outputs": []
    },
    {
      "cell_type": "code",
      "metadata": {
        "id": "TZCvM2jGdpj8"
      },
      "source": [
        "f = np.array([0, 3, 0, -1], dtype = 'bool')"
      ],
      "execution_count": null,
      "outputs": []
    },
    {
      "cell_type": "code",
      "metadata": {
        "id": "djo5oTE1dwQX"
      },
      "source": [
        "f"
      ],
      "execution_count": null,
      "outputs": []
    },
    {
      "cell_type": "code",
      "metadata": {
        "id": "O3o1PHeLdxEg"
      },
      "source": [
        "g = np.array([0., 1., 2.], dtype = 'int64')"
      ],
      "execution_count": null,
      "outputs": []
    },
    {
      "cell_type": "code",
      "metadata": {
        "id": "0JKqjLjzd2_D"
      },
      "source": [
        "g"
      ],
      "execution_count": null,
      "outputs": []
    },
    {
      "cell_type": "code",
      "metadata": {
        "id": "repuuhJCd33I"
      },
      "source": [
        "g.dtype"
      ],
      "execution_count": null,
      "outputs": []
    },
    {
      "cell_type": "code",
      "metadata": {
        "id": "U2-nrGpUd53d"
      },
      "source": [
        "g"
      ],
      "execution_count": null,
      "outputs": []
    },
    {
      "cell_type": "code",
      "metadata": {
        "id": "aX2jFCIcd8NW"
      },
      "source": [
        "g.dtype = 'int32'"
      ],
      "execution_count": null,
      "outputs": []
    },
    {
      "cell_type": "code",
      "metadata": {
        "id": "8BDiUJwReBJn"
      },
      "source": [
        "g"
      ],
      "execution_count": null,
      "outputs": []
    },
    {
      "cell_type": "code",
      "metadata": {
        "id": "0I7L1n0feCA5"
      },
      "source": [
        "g.dtype = 'float64'"
      ],
      "execution_count": null,
      "outputs": []
    },
    {
      "cell_type": "code",
      "metadata": {
        "id": "X6w62T7neHEl"
      },
      "source": [
        "g"
      ],
      "execution_count": null,
      "outputs": []
    },
    {
      "cell_type": "code",
      "metadata": {
        "id": "F5sELy0PeHmQ"
      },
      "source": [
        "g.dtype = 'float32'"
      ],
      "execution_count": null,
      "outputs": []
    },
    {
      "cell_type": "code",
      "metadata": {
        "id": "NzKqTjWIeQYr"
      },
      "source": [
        "g"
      ],
      "execution_count": null,
      "outputs": []
    },
    {
      "cell_type": "code",
      "metadata": {
        "id": "iKyB3DPJeRCR"
      },
      "source": [
        "g.dtype = 'int64'"
      ],
      "execution_count": null,
      "outputs": []
    },
    {
      "cell_type": "code",
      "metadata": {
        "id": "p-rkza-7eYPt"
      },
      "source": [
        "g"
      ],
      "execution_count": null,
      "outputs": []
    },
    {
      "cell_type": "code",
      "metadata": {
        "id": "TytziTNteZEJ"
      },
      "source": [
        "h = np.random.randint(10, size = 100, dtype = 'int8') "
      ],
      "execution_count": null,
      "outputs": []
    },
    {
      "cell_type": "code",
      "metadata": {
        "id": "7ZJW55yOehB4"
      },
      "source": [
        "i = np.random.randint(10, size = 100, dtype = 'int64') "
      ],
      "execution_count": null,
      "outputs": []
    },
    {
      "cell_type": "code",
      "metadata": {
        "id": "w5DW5W3IejRq"
      },
      "source": [
        "h.nbytes"
      ],
      "execution_count": null,
      "outputs": []
    },
    {
      "cell_type": "code",
      "metadata": {
        "id": "yHtqFOnHelqG"
      },
      "source": [
        "i.nbytes"
      ],
      "execution_count": null,
      "outputs": []
    },
    {
      "cell_type": "code",
      "metadata": {
        "id": "EMA0IZ68eooL"
      },
      "source": [
        "a = np.arange(12)"
      ],
      "execution_count": null,
      "outputs": []
    },
    {
      "cell_type": "code",
      "metadata": {
        "id": "iuhpN5_eh83D"
      },
      "source": [
        "a"
      ],
      "execution_count": null,
      "outputs": []
    },
    {
      "cell_type": "code",
      "metadata": {
        "id": "JSU3YrL_h-UC"
      },
      "source": [
        "a.shape"
      ],
      "execution_count": null,
      "outputs": []
    },
    {
      "cell_type": "code",
      "metadata": {
        "id": "H92aoecjiA5E"
      },
      "source": [
        "b = np.reshape(a, (3, 4))"
      ],
      "execution_count": null,
      "outputs": []
    },
    {
      "cell_type": "code",
      "metadata": {
        "id": "fdkrNNtziJwE"
      },
      "source": [
        "b"
      ],
      "execution_count": null,
      "outputs": []
    },
    {
      "cell_type": "code",
      "metadata": {
        "id": "t1EZ9v7QiKhL"
      },
      "source": [
        "b[0,1] = 0"
      ],
      "execution_count": null,
      "outputs": []
    },
    {
      "cell_type": "code",
      "metadata": {
        "id": "tOmK0xeHiREB"
      },
      "source": [
        "b"
      ],
      "execution_count": null,
      "outputs": []
    },
    {
      "cell_type": "code",
      "metadata": {
        "id": "Co5tsMZKiR7S"
      },
      "source": [
        "a"
      ],
      "execution_count": null,
      "outputs": []
    },
    {
      "cell_type": "code",
      "metadata": {
        "id": "5rSty0oiiYY5"
      },
      "source": [
        " c = np.arange(12)"
      ],
      "execution_count": null,
      "outputs": []
    },
    {
      "cell_type": "code",
      "metadata": {
        "id": "zm65GtJ-icxR"
      },
      "source": [
        "c"
      ],
      "execution_count": null,
      "outputs": []
    },
    {
      "cell_type": "code",
      "metadata": {
        "id": "-fqnLSeVidRs"
      },
      "source": [
        "d = np.reshape(c, (3,4), order = 'C') "
      ],
      "execution_count": null,
      "outputs": []
    },
    {
      "cell_type": "code",
      "metadata": {
        "id": "kU8uCUVJih-X"
      },
      "source": [
        "d"
      ],
      "execution_count": null,
      "outputs": []
    },
    {
      "cell_type": "code",
      "metadata": {
        "id": "P_LzUUEvlVFo"
      },
      "source": [
        "d = np.reshape(c, (3,4), order = 'F') "
      ],
      "execution_count": null,
      "outputs": []
    },
    {
      "cell_type": "code",
      "metadata": {
        "id": "7RoeM63jlZDa"
      },
      "source": [
        "f"
      ],
      "execution_count": null,
      "outputs": []
    },
    {
      "cell_type": "code",
      "metadata": {
        "id": "QVtgG_XplaAg"
      },
      "source": [
        "d"
      ],
      "execution_count": null,
      "outputs": []
    },
    {
      "cell_type": "code",
      "metadata": {
        "id": "JxVgQg4Ala1s"
      },
      "source": [
        "np.reshape(c, (3,4))"
      ],
      "execution_count": null,
      "outputs": []
    },
    {
      "cell_type": "code",
      "metadata": {
        "id": "2TcYZ9yUlgfG"
      },
      "source": [
        "a = np.arange(12)"
      ],
      "execution_count": null,
      "outputs": []
    },
    {
      "cell_type": "code",
      "metadata": {
        "id": "DVHn9Lzdlm79"
      },
      "source": [
        "a"
      ],
      "execution_count": null,
      "outputs": []
    },
    {
      "cell_type": "code",
      "metadata": {
        "id": "ERJHVUtglnuV"
      },
      "source": [
        "np.reshape(a, (3,-1)) "
      ],
      "execution_count": null,
      "outputs": []
    },
    {
      "cell_type": "code",
      "metadata": {
        "id": "bHs1qiuslvzu"
      },
      "source": [
        "a = np.arange(12).reshape((3, 4))\n"
      ],
      "execution_count": null,
      "outputs": []
    },
    {
      "cell_type": "code",
      "metadata": {
        "id": "ulzYexl1l2vx"
      },
      "source": [
        "a"
      ],
      "execution_count": null,
      "outputs": []
    },
    {
      "cell_type": "code",
      "metadata": {
        "id": "qQK8zfD1l3Ko"
      },
      "source": [
        "b"
      ],
      "execution_count": null,
      "outputs": []
    },
    {
      "cell_type": "code",
      "metadata": {
        "id": "BpxZnFKul5Or"
      },
      "source": [
        "a = np.arange(12)"
      ],
      "execution_count": null,
      "outputs": []
    },
    {
      "cell_type": "code",
      "metadata": {
        "id": "jjh_Aku4mkvL"
      },
      "source": [
        "a"
      ],
      "execution_count": null,
      "outputs": []
    },
    {
      "cell_type": "code",
      "metadata": {
        "id": "ZAqGM43JmlAI"
      },
      "source": [
        "np.reshape(a, (3,4))"
      ],
      "execution_count": null,
      "outputs": []
    },
    {
      "cell_type": "code",
      "metadata": {
        "id": "nHkCW5kOmnMi"
      },
      "source": [
        "np.resize(a, (3,5))"
      ],
      "execution_count": null,
      "outputs": []
    },
    {
      "cell_type": "code",
      "metadata": {
        "id": "vPAa94uImrRJ"
      },
      "source": [
        "b = np.resize(a, (3,4))\n"
      ],
      "execution_count": null,
      "outputs": []
    },
    {
      "cell_type": "code",
      "metadata": {
        "id": "kcaiyBL-mw8U"
      },
      "source": [
        "b[0, 1] = 0"
      ],
      "execution_count": null,
      "outputs": []
    },
    {
      "cell_type": "code",
      "metadata": {
        "id": "CztJYF5cm0It"
      },
      "source": [
        "b"
      ],
      "execution_count": null,
      "outputs": []
    },
    {
      "cell_type": "code",
      "metadata": {
        "id": "eCNhyZUam0tF"
      },
      "source": [
        "a.resize((3,5), refcheck = False)"
      ],
      "execution_count": null,
      "outputs": []
    },
    {
      "cell_type": "code",
      "metadata": {
        "id": "Id5aLHZ2nUkv"
      },
      "source": [
        "a"
      ],
      "execution_count": null,
      "outputs": []
    },
    {
      "cell_type": "code",
      "metadata": {
        "id": "HVjHXmZdnViG"
      },
      "source": [
        "a[2,2:5]=12,13,14"
      ],
      "execution_count": null,
      "outputs": []
    },
    {
      "cell_type": "code",
      "metadata": {
        "id": "Pbnfr5Bnnfjo"
      },
      "source": [
        "a"
      ],
      "execution_count": null,
      "outputs": []
    },
    {
      "cell_type": "code",
      "metadata": {
        "id": "vQBP6P_3ngKQ"
      },
      "source": [
        "a[2,3]"
      ],
      "execution_count": null,
      "outputs": []
    },
    {
      "cell_type": "code",
      "metadata": {
        "id": "KZZn4Vpenl-r"
      },
      "source": [
        "a = np.arange(12)"
      ],
      "execution_count": null,
      "outputs": []
    },
    {
      "cell_type": "code",
      "metadata": {
        "id": "MTgaRWMUohsx"
      },
      "source": [
        "a"
      ],
      "execution_count": null,
      "outputs": []
    },
    {
      "cell_type": "code",
      "metadata": {
        "id": "KsX_NEUIoiOA"
      },
      "source": [
        "np.append(a, [6, 4, 2])"
      ],
      "execution_count": null,
      "outputs": []
    },
    {
      "cell_type": "code",
      "metadata": {
        "id": "QVRcH643ompQ"
      },
      "source": [
        "b = np.arange(12).reshape((3, 4))"
      ],
      "execution_count": null,
      "outputs": []
    },
    {
      "cell_type": "code",
      "metadata": {
        "id": "DnAp15GDoorY"
      },
      "source": [
        "b"
      ],
      "execution_count": null,
      "outputs": []
    },
    {
      "cell_type": "code",
      "metadata": {
        "id": "9zgRIzfFopn6"
      },
      "source": [
        "np.append(b, [1, 2, 3, 4]) "
      ],
      "execution_count": null,
      "outputs": []
    },
    {
      "cell_type": "code",
      "metadata": {
        "id": "0iTIzlqMouS_"
      },
      "source": [
        "b"
      ],
      "execution_count": null,
      "outputs": []
    },
    {
      "cell_type": "code",
      "metadata": {
        "id": "WaTFLwmJoyYj"
      },
      "source": [
        "np.append(b, [[12, 13, 14, 15]], axis=0)\n"
      ],
      "execution_count": null,
      "outputs": []
    },
    {
      "cell_type": "code",
      "metadata": {
        "id": "5lIo8uzBo05A"
      },
      "source": [
        "np.append(b, [12, 13, 14, 15], axis=0) "
      ],
      "execution_count": null,
      "outputs": []
    },
    {
      "cell_type": "code",
      "metadata": {
        "id": "-HWVdMNZpAKb"
      },
      "source": [
        "np.append(b, [[12, 13, 14, 15]], axis=0) "
      ],
      "execution_count": null,
      "outputs": []
    },
    {
      "cell_type": "code",
      "metadata": {
        "id": "kulGqtdRpDJw"
      },
      "source": [
        "c = np.arange(12).reshape((3, 4))"
      ],
      "execution_count": null,
      "outputs": []
    },
    {
      "cell_type": "code",
      "metadata": {
        "id": "Q7_zdDsVpIIh"
      },
      "source": [
        "c"
      ],
      "execution_count": null,
      "outputs": []
    },
    {
      "cell_type": "code",
      "metadata": {
        "id": "Hp22bfOepIlA"
      },
      "source": [
        "d = np.linspace(0, 26, 12).reshape(3,4)"
      ],
      "execution_count": null,
      "outputs": []
    },
    {
      "cell_type": "code",
      "metadata": {
        "id": "ojABLoI_pMNS"
      },
      "source": [
        "d"
      ],
      "execution_count": null,
      "outputs": []
    },
    {
      "cell_type": "code",
      "metadata": {
        "id": "6cowgArqpM5m"
      },
      "source": [
        "np.append(c,d, axis = 0) "
      ],
      "execution_count": null,
      "outputs": []
    },
    {
      "cell_type": "code",
      "metadata": {
        "id": "yPvZ0Bu9p6Wg"
      },
      "source": [
        "def np_append():\n",
        "  a = np.array([1, 2, 3])\n",
        "  for i in range(10000):\n",
        "    a = np.append(a,[i])\n",
        "  return a"
      ],
      "execution_count": null,
      "outputs": []
    },
    {
      "cell_type": "code",
      "metadata": {
        "id": "_ZCTxwa_qU_Y"
      },
      "source": [
        "a"
      ],
      "execution_count": null,
      "outputs": []
    },
    {
      "cell_type": "code",
      "metadata": {
        "id": "qQXdYB8WqW7Q"
      },
      "source": [
        "def list_append():\n",
        "  a = [1, 2, 3]\n",
        "  for i in range(10000):\n",
        "    a.append(i)\n",
        "  return np.array(a)"
      ],
      "execution_count": null,
      "outputs": []
    },
    {
      "cell_type": "code",
      "metadata": {
        "id": "QVfY0DL7qsgP"
      },
      "source": [
        "%timeit np_append()"
      ],
      "execution_count": null,
      "outputs": []
    },
    {
      "cell_type": "code",
      "metadata": {
        "id": "NtL1Db8tqxS4"
      },
      "source": [
        "%timeit list_append()"
      ],
      "execution_count": null,
      "outputs": []
    },
    {
      "cell_type": "code",
      "metadata": {
        "id": "psHhLGNxq4Wr"
      },
      "source": [
        "a = np.array([\n",
        " [1, 1, 1],\n",
        " [1, 0, 0],\n",
        " [1, 0, 1],\n",
        "])"
      ],
      "execution_count": null,
      "outputs": []
    },
    {
      "cell_type": "code",
      "metadata": {
        "id": "AiDYTesRuaNE"
      },
      "source": [
        "a"
      ],
      "execution_count": null,
      "outputs": []
    },
    {
      "cell_type": "code",
      "metadata": {
        "id": "9l6fuNitubj5"
      },
      "source": [
        "np.all(a)"
      ],
      "execution_count": null,
      "outputs": []
    },
    {
      "cell_type": "code",
      "metadata": {
        "id": "gFxb7Ghwui_J"
      },
      "source": [
        "b = np.ones((3,3))"
      ],
      "execution_count": null,
      "outputs": []
    },
    {
      "cell_type": "code",
      "metadata": {
        "id": "hZ1L8IDHuyAn"
      },
      "source": [
        "b"
      ],
      "execution_count": null,
      "outputs": []
    },
    {
      "cell_type": "code",
      "metadata": {
        "id": "VqY08queuyxu"
      },
      "source": [
        "np.all(b)"
      ],
      "execution_count": null,
      "outputs": []
    },
    {
      "cell_type": "code",
      "metadata": {
        "id": "dShwhDKju2X3"
      },
      "source": [
        "np.all(a<2)"
      ],
      "execution_count": null,
      "outputs": []
    },
    {
      "cell_type": "code",
      "metadata": {
        "id": "77PJ3N9gu5m7"
      },
      "source": [
        "np.all(b % 3 < 2)"
      ],
      "execution_count": null,
      "outputs": []
    },
    {
      "cell_type": "code",
      "metadata": {
        "id": "olak5v_Qu-Td"
      },
      "source": [
        "np.all(a, axis = 0)"
      ],
      "execution_count": null,
      "outputs": []
    },
    {
      "cell_type": "code",
      "metadata": {
        "id": "fdCbvguMvGv8"
      },
      "source": [
        "a"
      ],
      "execution_count": null,
      "outputs": []
    },
    {
      "cell_type": "code",
      "metadata": {
        "id": "IYKwNQnNvXLE"
      },
      "source": [
        "np.all(a, axis=0)"
      ],
      "execution_count": null,
      "outputs": []
    },
    {
      "cell_type": "code",
      "metadata": {
        "id": "b2cXIE-9xcbC"
      },
      "source": [
        "np.all(a, axis=1)"
      ],
      "execution_count": null,
      "outputs": []
    },
    {
      "cell_type": "code",
      "metadata": {
        "id": "WXjEdYdzxfrW"
      },
      "source": [
        "a[2,0] = 0\n"
      ],
      "execution_count": null,
      "outputs": []
    },
    {
      "cell_type": "code",
      "metadata": {
        "id": "2_z89H6Mxj22"
      },
      "source": [
        "a"
      ],
      "execution_count": null,
      "outputs": []
    },
    {
      "cell_type": "code",
      "metadata": {
        "id": "-hy78-_AxkQL"
      },
      "source": [
        "np.all(a, axis=0)\n"
      ],
      "execution_count": null,
      "outputs": []
    },
    {
      "cell_type": "code",
      "metadata": {
        "id": "DDB-YLJ6xodE"
      },
      "source": [
        "np.all(a, axis=0, keepdims=True)"
      ],
      "execution_count": null,
      "outputs": []
    },
    {
      "cell_type": "code",
      "metadata": {
        "id": "-6qiVRS6xuH8"
      },
      "source": [
        "a.all()"
      ],
      "execution_count": null,
      "outputs": []
    },
    {
      "cell_type": "code",
      "metadata": {
        "id": "diKD0-NLyYEj"
      },
      "source": [
        "b"
      ],
      "execution_count": null,
      "outputs": []
    },
    {
      "cell_type": "code",
      "metadata": {
        "id": "fspIf11oyZTk"
      },
      "source": [
        "b.all()"
      ],
      "execution_count": null,
      "outputs": []
    },
    {
      "cell_type": "code",
      "metadata": {
        "id": "4AYFnz3fybcJ"
      },
      "source": [
        "a.all(axis=1)"
      ],
      "execution_count": null,
      "outputs": []
    },
    {
      "cell_type": "code",
      "metadata": {
        "id": "p1-4RKkryeL4"
      },
      "source": [
        "a"
      ],
      "execution_count": null,
      "outputs": []
    },
    {
      "cell_type": "code",
      "metadata": {
        "id": "qOYbFItIyfCm"
      },
      "source": [
        "a.all(keepdims=True)"
      ],
      "execution_count": null,
      "outputs": []
    },
    {
      "cell_type": "code",
      "metadata": {
        "id": "kQs0XIvByndU"
      },
      "source": [
        "import numpy as np"
      ],
      "execution_count": null,
      "outputs": []
    },
    {
      "cell_type": "code",
      "metadata": {
        "id": "qHXBr5p60S_A"
      },
      "source": [
        "a = np.random.randint(10, size=(2,3))\n"
      ],
      "execution_count": null,
      "outputs": []
    },
    {
      "cell_type": "code",
      "metadata": {
        "id": "7w-1GY4X0UlG"
      },
      "source": [
        "a"
      ],
      "execution_count": null,
      "outputs": []
    },
    {
      "cell_type": "code",
      "metadata": {
        "id": "o4YBubHk0XpW"
      },
      "source": [
        "np.any(a == 1+3)"
      ],
      "execution_count": null,
      "outputs": []
    },
    {
      "cell_type": "code",
      "metadata": {
        "id": "gxt05npy0atg"
      },
      "source": [
        "np.any(a % 2 == 0)"
      ],
      "execution_count": null,
      "outputs": []
    },
    {
      "cell_type": "code",
      "metadata": {
        "id": "vPAHod7H0m2d"
      },
      "source": [
        "np.any(a%2==0, axis=) "
      ],
      "execution_count": null,
      "outputs": []
    },
    {
      "cell_type": "code",
      "metadata": {
        "id": "EdL6I27O2l6Q"
      },
      "source": [
        "np.any(a%2==1, axis=1, keepdims=True)"
      ],
      "execution_count": null,
      "outputs": []
    },
    {
      "cell_type": "code",
      "metadata": {
        "id": "-_UIMZYA20e_"
      },
      "source": [
        "np.any(a>2, keepdims=True)"
      ],
      "execution_count": null,
      "outputs": []
    },
    {
      "cell_type": "code",
      "metadata": {
        "id": "VqIdGpIW3F6N"
      },
      "source": [
        "a"
      ],
      "execution_count": null,
      "outputs": []
    },
    {
      "cell_type": "code",
      "metadata": {
        "id": "P30yf2AS3IXb"
      },
      "source": [
        "import numpy as np"
      ],
      "execution_count": null,
      "outputs": []
    },
    {
      "cell_type": "code",
      "metadata": {
        "id": "i8Jg53w334_v"
      },
      "source": [
        "a = np.arange(20, 0, -2) "
      ],
      "execution_count": null,
      "outputs": []
    },
    {
      "cell_type": "code",
      "metadata": {
        "id": "U1hF_HE436id"
      },
      "source": [
        "a"
      ],
      "execution_count": null,
      "outputs": []
    },
    {
      "cell_type": "code",
      "metadata": {
        "id": "MtvRUkXC368-"
      },
      "source": [
        "a[np.where(a < 10)]"
      ],
      "execution_count": null,
      "outputs": []
    },
    {
      "cell_type": "code",
      "metadata": {
        "id": "X1fEuBzQ4BvJ"
      },
      "source": [
        "a = np.arange(12).reshape((3, 4)) "
      ],
      "execution_count": null,
      "outputs": []
    },
    {
      "cell_type": "code",
      "metadata": {
        "id": "G8MO1l2Z4hqA"
      },
      "source": [
        "a\n"
      ],
      "execution_count": null,
      "outputs": []
    },
    {
      "cell_type": "code",
      "metadata": {
        "id": "TPvtV5Cv4izg"
      },
      "source": [
        "np.where(a % 2 ==0)"
      ],
      "execution_count": null,
      "outputs": []
    },
    {
      "cell_type": "code",
      "metadata": {
        "id": "FjFhx7PV4owy"
      },
      "source": [
        "np.where( a%2 == 0, 'even', 'odd')"
      ],
      "execution_count": null,
      "outputs": []
    },
    {
      "cell_type": "code",
      "metadata": {
        "id": "xZZVmDWR7LRz"
      },
      "source": [
        "np.where( a%2 == 0, 'even', 'odd')"
      ],
      "execution_count": null,
      "outputs": []
    },
    {
      "cell_type": "code",
      "metadata": {
        "id": "yoeRFi2Y7VNi"
      },
      "source": [
        "b = np.reshape(a, (3, 4))\n"
      ],
      "execution_count": null,
      "outputs": []
    },
    {
      "cell_type": "code",
      "metadata": {
        "id": "_4v6YSl77YLF"
      },
      "source": [
        " c = b ** 2\n"
      ],
      "execution_count": null,
      "outputs": []
    },
    {
      "cell_type": "code",
      "metadata": {
        "id": "fe21Oc2e7bGT"
      },
      "source": [
        "c"
      ],
      "execution_count": null,
      "outputs": []
    },
    {
      "cell_type": "code",
      "metadata": {
        "id": "mWybfSgM7cFC"
      },
      "source": [
        "np.where(b % 2 == 0, b, c)"
      ],
      "execution_count": null,
      "outputs": []
    },
    {
      "cell_type": "code",
      "metadata": {
        "id": "_aGl9VPZ7qhh"
      },
      "source": [
        "np.where( b%2 == 0, b, (10, 8, 6, 4))"
      ],
      "execution_count": null,
      "outputs": []
    },
    {
      "cell_type": "code",
      "metadata": {
        "id": "hYLWuxxT8CHa"
      },
      "source": [
        "a"
      ],
      "execution_count": null,
      "outputs": []
    },
    {
      "cell_type": "code",
      "metadata": {
        "id": "5Sved72b8Cfr"
      },
      "source": [
        "import numpy as np"
      ],
      "execution_count": null,
      "outputs": []
    },
    {
      "cell_type": "code",
      "metadata": {
        "id": "4HCVLjmg86LG"
      },
      "source": [
        "np.amax(np.array([1, 2, 3, 2, 1]))\n"
      ],
      "execution_count": null,
      "outputs": []
    },
    {
      "cell_type": "code",
      "metadata": {
        "id": "b0NWes6y87Zm"
      },
      "source": [
        "np.amax(np.array([1, 2, 3, 2, 1]))\n"
      ],
      "execution_count": null,
      "outputs": []
    },
    {
      "cell_type": "code",
      "metadata": {
        "id": "ucrEj_dN9AHb"
      },
      "source": [
        "arr = np.array([1, 2, 3, 4]).reshape((2, 2,))\n",
        "\n"
      ],
      "execution_count": null,
      "outputs": []
    },
    {
      "cell_type": "code",
      "metadata": {
        "id": "6N1R_Lr_9CNI"
      },
      "source": [
        "np.amax(arr, axis=1)\n",
        "arr\n"
      ],
      "execution_count": null,
      "outputs": []
    },
    {
      "cell_type": "code",
      "metadata": {
        "id": "ebrxxZ2I9Eqt"
      },
      "source": [
        "np.amax(arr, axis=1)"
      ],
      "execution_count": null,
      "outputs": []
    },
    {
      "cell_type": "code",
      "metadata": {
        "id": "_nJLJkWj9Ofo"
      },
      "source": [
        "import numpy as np\n"
      ],
      "execution_count": null,
      "outputs": []
    },
    {
      "cell_type": "code",
      "metadata": {
        "id": "W8QnAB3F9Xli"
      },
      "source": [
        "a = np.random.rand(20)"
      ],
      "execution_count": null,
      "outputs": []
    },
    {
      "cell_type": "code",
      "metadata": {
        "id": "HbGV95M29ZlU"
      },
      "source": [
        "a"
      ],
      "execution_count": null,
      "outputs": []
    },
    {
      "cell_type": "code",
      "metadata": {
        "id": "Fqgjor2Q9ahm"
      },
      "source": [
        "a.max()"
      ],
      "execution_count": null,
      "outputs": []
    },
    {
      "cell_type": "code",
      "metadata": {
        "id": "JTlDb8J89cni"
      },
      "source": [
        "a = a.reshape((4, 5))"
      ],
      "execution_count": null,
      "outputs": []
    },
    {
      "cell_type": "code",
      "metadata": {
        "id": "jqY1vVPH9hbC"
      },
      "source": [
        "a.max(axis=0)"
      ],
      "execution_count": null,
      "outputs": []
    },
    {
      "cell_type": "code",
      "metadata": {
        "id": "lXl5QIvt9kct"
      },
      "source": [
        " a.max(axis=1) "
      ],
      "execution_count": null,
      "outputs": []
    },
    {
      "cell_type": "code",
      "metadata": {
        "id": "6ZCk7C3t9y3_"
      },
      "source": [
        "b = np.random.rand(30).reshape((2,3,5))"
      ],
      "execution_count": null,
      "outputs": []
    },
    {
      "cell_type": "code",
      "metadata": {
        "id": "spTsdxf393lj"
      },
      "source": [
        "b"
      ],
      "execution_count": null,
      "outputs": []
    },
    {
      "cell_type": "code",
      "metadata": {
        "id": "Rud9c2CG94bb"
      },
      "source": [
        "b.max(axis = 0)"
      ],
      "execution_count": null,
      "outputs": []
    },
    {
      "cell_type": "code",
      "metadata": {
        "id": "38_bGVyu-tcN"
      },
      "source": [
        "b.max(axis = 1)"
      ],
      "execution_count": null,
      "outputs": []
    },
    {
      "cell_type": "code",
      "metadata": {
        "colab": {
          "background_save": true
        },
        "id": "08fmQBJM-4y1"
      },
      "source": [
        " b = np.arange(10, dtype = np.float)\n"
      ],
      "execution_count": null,
      "outputs": []
    },
    {
      "cell_type": "code",
      "metadata": {
        "colab": {
          "background_save": true
        },
        "id": "ZCggq_pX_OTz"
      },
      "source": [
        "b"
      ],
      "execution_count": null,
      "outputs": []
    },
    {
      "cell_type": "code",
      "metadata": {
        "colab": {
          "background_save": true
        },
        "id": "IUZlvkHI_P-d"
      },
      "source": [
        "b[3] = np.NaN"
      ],
      "execution_count": null,
      "outputs": []
    },
    {
      "cell_type": "code",
      "metadata": {
        "colab": {
          "background_save": true
        },
        "id": "ZcaHvxSd_XV2"
      },
      "source": [
        "b"
      ],
      "execution_count": null,
      "outputs": []
    },
    {
      "cell_type": "code",
      "metadata": {
        "colab": {
          "background_save": true
        },
        "id": "fbsK61wo_Xsq"
      },
      "source": [
        "np.nanmax(b)"
      ],
      "execution_count": null,
      "outputs": []
    },
    {
      "cell_type": "code",
      "metadata": {
        "colab": {
          "background_save": true
        },
        "id": "Cgt63NA-_eYu"
      },
      "source": [
        "import numpy as np\n"
      ],
      "execution_count": null,
      "outputs": []
    },
    {
      "cell_type": "code",
      "metadata": {
        "colab": {
          "background_save": true
        },
        "id": "sAcA41bmBdo7"
      },
      "source": [
        "a = np.random.randint(10, size = 10) "
      ],
      "execution_count": null,
      "outputs": []
    },
    {
      "cell_type": "code",
      "metadata": {
        "colab": {
          "background_save": true
        },
        "id": "jm-KDkKpBgeY"
      },
      "source": [
        "a"
      ],
      "execution_count": null,
      "outputs": []
    },
    {
      "cell_type": "code",
      "metadata": {
        "colab": {
          "background_save": true
        },
        "id": "qd9hMZPKBhT3"
      },
      "source": [
        "np.argmax(a)"
      ],
      "execution_count": null,
      "outputs": []
    },
    {
      "cell_type": "code",
      "metadata": {
        "colab": {
          "background_save": true
        },
        "id": "yz-TKwR-BpWy"
      },
      "source": [
        "a.argmax()"
      ],
      "execution_count": null,
      "outputs": []
    },
    {
      "cell_type": "code",
      "metadata": {
        "colab": {
          "background_save": true
        },
        "id": "YP4nEZ-KBrrD"
      },
      "source": [
        "b = np.random.randint(10, size = (3,4))"
      ],
      "execution_count": null,
      "outputs": []
    },
    {
      "cell_type": "code",
      "metadata": {
        "colab": {
          "background_save": true
        },
        "id": "VnvSWBkQD42r"
      },
      "source": [
        "b"
      ],
      "execution_count": null,
      "outputs": []
    },
    {
      "cell_type": "code",
      "metadata": {
        "colab": {
          "background_save": true
        },
        "id": "B25A3YJ3D56T"
      },
      "source": [
        "np.argmax(b,axis = 1)"
      ],
      "execution_count": null,
      "outputs": []
    },
    {
      "cell_type": "code",
      "metadata": {
        "colab": {
          "background_save": true
        },
        "id": "SSLUj5ptEQlY"
      },
      "source": [
        "c = np.random.randint(10, size = (2,3,4))"
      ],
      "execution_count": null,
      "outputs": []
    },
    {
      "cell_type": "code",
      "metadata": {
        "colab": {
          "background_save": true
        },
        "id": "BA9ynhoOGWZK"
      },
      "source": [
        "c"
      ],
      "execution_count": null,
      "outputs": []
    },
    {
      "cell_type": "code",
      "metadata": {
        "colab": {
          "background_save": true
        },
        "id": "LfqvoGROGXnC"
      },
      "source": [
        "np.argmax(c, axis = 1)"
      ],
      "execution_count": null,
      "outputs": []
    },
    {
      "cell_type": "code",
      "metadata": {
        "colab": {
          "background_save": true
        },
        "id": "W7Nsrrd3Gqvq"
      },
      "source": [
        "np.argmax(c, axis = 2)"
      ],
      "execution_count": null,
      "outputs": []
    },
    {
      "cell_type": "code",
      "metadata": {
        "colab": {
          "background_save": true
        },
        "id": "a48XlYvkJutZ"
      },
      "source": [
        "import numpy as np"
      ],
      "execution_count": null,
      "outputs": []
    },
    {
      "cell_type": "code",
      "metadata": {
        "colab": {
          "background_save": true
        },
        "id": "kD63-5V-JvUS"
      },
      "source": [
        "a = np.arange(12).reshape(3,4)"
      ],
      "execution_count": null,
      "outputs": []
    },
    {
      "cell_type": "code",
      "metadata": {
        "colab": {
          "background_save": true
        },
        "id": "iPG-mBgQJw0Z"
      },
      "source": [
        "a"
      ],
      "execution_count": null,
      "outputs": []
    },
    {
      "cell_type": "code",
      "metadata": {
        "colab": {
          "background_save": true
        },
        "id": "qTb_lLweJx-M"
      },
      "source": [
        "a.transpose()"
      ],
      "execution_count": null,
      "outputs": []
    },
    {
      "cell_type": "code",
      "metadata": {
        "colab": {
          "background_save": true
        },
        "id": "Q02M4VCwJ0QD"
      },
      "source": [
        " b = np.arange(6)"
      ],
      "execution_count": null,
      "outputs": []
    },
    {
      "cell_type": "code",
      "metadata": {
        "colab": {
          "background_save": true
        },
        "id": "I53qWnlxJ9J5"
      },
      "source": [
        "b"
      ],
      "execution_count": null,
      "outputs": []
    },
    {
      "cell_type": "code",
      "metadata": {
        "colab": {
          "background_save": true
        },
        "id": "M68ohzbqJ-xl"
      },
      "source": [
        "b.shape"
      ],
      "execution_count": null,
      "outputs": []
    },
    {
      "cell_type": "code",
      "metadata": {
        "colab": {
          "background_save": true
        },
        "id": "DdxQJs-dKAiT"
      },
      "source": [
        " b.transpose()\n"
      ],
      "execution_count": null,
      "outputs": []
    },
    {
      "cell_type": "code",
      "metadata": {
        "colab": {
          "background_save": true
        },
        "id": "xw3CJwHuKEm3"
      },
      "source": [
        "b = b.reshape((1,6))"
      ],
      "execution_count": null,
      "outputs": []
    },
    {
      "cell_type": "code",
      "metadata": {
        "colab": {
          "background_save": true
        },
        "id": "hWBu5L6QKIdw"
      },
      "source": [
        "b"
      ],
      "execution_count": null,
      "outputs": []
    },
    {
      "cell_type": "code",
      "metadata": {
        "colab": {
          "background_save": true
        },
        "id": "HgTqZIPmKJSe"
      },
      "source": [
        "b.shape"
      ],
      "execution_count": null,
      "outputs": []
    },
    {
      "cell_type": "code",
      "metadata": {
        "colab": {
          "background_save": true
        },
        "id": "USHXdakqKKhp"
      },
      "source": [
        " b.transpose()"
      ],
      "execution_count": null,
      "outputs": []
    },
    {
      "cell_type": "code",
      "metadata": {
        "colab": {
          "background_save": true
        },
        "id": "PjVvGdC9KN32"
      },
      "source": [
        "c = np.arange(24).reshape(4,3,2) "
      ],
      "execution_count": null,
      "outputs": []
    },
    {
      "cell_type": "code",
      "metadata": {
        "colab": {
          "background_save": true
        },
        "id": "OX91M05pKQ03"
      },
      "source": [
        "c"
      ],
      "execution_count": null,
      "outputs": []
    },
    {
      "cell_type": "code",
      "metadata": {
        "colab": {
          "background_save": true
        },
        "id": "QWtXIrLwKRqj"
      },
      "source": [
        "c.transpose()"
      ],
      "execution_count": null,
      "outputs": []
    },
    {
      "cell_type": "code",
      "metadata": {
        "colab": {
          "background_save": true
        },
        "id": "EFqvrTX6Kchi"
      },
      "source": [
        "c.transpose(1, 0, 2) "
      ],
      "execution_count": null,
      "outputs": []
    },
    {
      "cell_type": "code",
      "metadata": {
        "colab": {
          "background_save": true
        },
        "id": "PP7PRiu-KfF5"
      },
      "source": [
        "a"
      ],
      "execution_count": null,
      "outputs": []
    },
    {
      "cell_type": "code",
      "metadata": {
        "colab": {
          "background_save": true
        },
        "id": "piXYO_ckK_mQ"
      },
      "source": [
        ""
      ],
      "execution_count": null,
      "outputs": []
    },
    {
      "cell_type": "code",
      "metadata": {
        "colab": {
          "background_save": true
        },
        "id": "geGdcbL6Kp4A"
      },
      "source": [
        "a.T"
      ],
      "execution_count": null,
      "outputs": []
    },
    {
      "cell_type": "code",
      "metadata": {
        "colab": {
          "background_save": true
        },
        "id": "2L7BrAkXLBKQ"
      },
      "source": [
        "b"
      ],
      "execution_count": null,
      "outputs": []
    },
    {
      "cell_type": "code",
      "metadata": {
        "colab": {
          "background_save": true
        },
        "id": "kgQbM3NKLCCX"
      },
      "source": [
        "b.shape"
      ],
      "execution_count": null,
      "outputs": []
    },
    {
      "cell_type": "code",
      "metadata": {
        "colab": {
          "background_save": true
        },
        "id": "dvbNhAMTLE-p"
      },
      "source": [
        "b.T.shape"
      ],
      "execution_count": null,
      "outputs": []
    },
    {
      "cell_type": "code",
      "metadata": {
        "colab": {
          "background_save": true
        },
        "id": "xop_YN4SLIU-"
      },
      "source": [
        "import numpy as np"
      ],
      "execution_count": null,
      "outputs": []
    },
    {
      "cell_type": "code",
      "metadata": {
        "colab": {
          "background_save": true
        },
        "id": "GUv7FjZdMTaR"
      },
      "source": [
        "a = np.random.randint(0, 100, size = 20)\n"
      ],
      "execution_count": null,
      "outputs": []
    },
    {
      "cell_type": "code",
      "metadata": {
        "colab": {
          "background_save": true
        },
        "id": "an2PN-ZLMVcf"
      },
      "source": [
        "a"
      ],
      "execution_count": null,
      "outputs": []
    },
    {
      "cell_type": "code",
      "metadata": {
        "colab": {
          "background_save": true
        },
        "id": "l2lCrmj3MWa3"
      },
      "source": [
        "np.sort(a)"
      ],
      "execution_count": null,
      "outputs": []
    },
    {
      "cell_type": "code",
      "metadata": {
        "colab": {
          "background_save": true
        },
        "id": "FrIzOEMkMa8d"
      },
      "source": [
        "a = np.array([1, 3, 2])"
      ],
      "execution_count": null,
      "outputs": []
    },
    {
      "cell_type": "code",
      "metadata": {
        "colab": {
          "background_save": true
        },
        "id": "LBZp0QubMlHa"
      },
      "source": [
        "np.argsort(a)\n"
      ],
      "execution_count": null,
      "outputs": []
    },
    {
      "cell_type": "code",
      "metadata": {
        "colab": {
          "background_save": true
        },
        "id": "bK5ZuGzWOIA2"
      },
      "source": [
        "from test import *"
      ],
      "execution_count": null,
      "outputs": []
    },
    {
      "cell_type": "code",
      "metadata": {
        "colab": {
          "background_save": true
        },
        "id": "o1hsNErnOIfi"
      },
      "source": [
        "sort_comparison(100)"
      ],
      "execution_count": null,
      "outputs": []
    },
    {
      "cell_type": "code",
      "metadata": {
        "colab": {
          "background_save": true
        },
        "id": "UY_83bI7OL8l"
      },
      "source": [
        "import numpy as np\n",
        "def sort_comparison(n):\n",
        "     result1 = np.empty(1000)\n",
        "     for i in range(1000):\n",
        "         a = np.random.rand(n)\n",
        "         time1 = time.time()\n",
        "         b = np.sort(a,kind='quicksort')\n",
        "         time1 = time.time()- time1\n",
        "         result1[i] = time1\n",
        "     result2 = np.empty(1000)\n",
        "     for i in range(1000):\n",
        "         a = np.random.rand(n)\n",
        "         time1 = time.time()\n",
        "         b = np.sort(a, kind='mergesort')\n",
        "         time1 = time.time()-time1\n",
        "         result2[i] = time1\n",
        "     result3 = np.empty(1000)\n",
        "     for i in range(1000):\n",
        "         a = np.random.rand(n)\n",
        "         time1 = time.time()\n",
        "         b = np.sort(a,kind='heapsort')\n",
        "         time1 = time.time() - time1\n",
        "         result3[i] = time1\n",
        "     print (\"quicksort average {}, max {}\".format(np.average(result1), np.max(result1)))\n",
        "     print (\"mergesort average {}, max  {}\".format(np.average(result2), np. max(result2)))\n",
        "     print (\"heapsort average {}, max {}\".format(np.average(result3), np.max(result3)))  "
      ],
      "execution_count": null,
      "outputs": []
    },
    {
      "cell_type": "code",
      "metadata": {
        "colab": {
          "background_save": true
        },
        "id": "yaU4iQcaOuvL"
      },
      "source": [
        "values = [('Alice', 25, 9.7), ('Bob', 12, 7.6), ('Catherine', 1, 8.6), ('David', 10, 7.6)]"
      ],
      "execution_count": null,
      "outputs": []
    },
    {
      "cell_type": "code",
      "metadata": {
        "colab": {
          "background_save": true
        },
        "id": "5RzU0EulOh6g"
      },
      "source": [
        "dtype = [('name', 'S10'),('ID', int), ('score', float)]"
      ],
      "execution_count": null,
      "outputs": []
    },
    {
      "cell_type": "code",
      "metadata": {
        "colab": {
          "background_save": true
        },
        "id": "3S99eNhtOziF"
      },
      "source": [
        "a = np.array(values, dtype=dtype)"
      ],
      "execution_count": null,
      "outputs": []
    },
    {
      "cell_type": "code",
      "metadata": {
        "colab": {
          "background_save": true
        },
        "id": "hQKPiVBrO1KQ"
      },
      "source": [
        "a"
      ],
      "execution_count": null,
      "outputs": []
    },
    {
      "cell_type": "code",
      "metadata": {
        "colab": {
          "background_save": true
        },
        "id": "M64UG_KoPBdj"
      },
      "source": [
        "np.sort(a, order= 'score')\n"
      ],
      "execution_count": null,
      "outputs": []
    },
    {
      "cell_type": "code",
      "metadata": {
        "colab": {
          "background_save": true
        },
        "id": "OX1t8lSbPCJu"
      },
      "source": [
        "np.argsort(a, order = 'score')"
      ],
      "execution_count": null,
      "outputs": []
    },
    {
      "cell_type": "code",
      "metadata": {
        "colab": {
          "background_save": true
        },
        "id": "HdM1uuCEPO4j"
      },
      "source": [
        "np.sort(a, order = ['score', 'ID'])"
      ],
      "execution_count": null,
      "outputs": []
    },
    {
      "cell_type": "code",
      "metadata": {
        "colab": {
          "background_save": true
        },
        "id": "OFfSeaiYPU2q"
      },
      "source": [
        "b = np.random.randint(0, 100, size=20).reshape(4,5)"
      ],
      "execution_count": null,
      "outputs": []
    },
    {
      "cell_type": "code",
      "metadata": {
        "colab": {
          "background_save": true
        },
        "id": "XleXv_A-Pa7A"
      },
      "source": [
        "b"
      ],
      "execution_count": null,
      "outputs": []
    },
    {
      "cell_type": "code",
      "metadata": {
        "colab": {
          "background_save": true
        },
        "id": "n3xmIKnVPbn8"
      },
      "source": [
        "np.sort(b)"
      ],
      "execution_count": null,
      "outputs": []
    },
    {
      "cell_type": "code",
      "metadata": {
        "colab": {
          "background_save": true
        },
        "id": "cL3hCL1KQ4of"
      },
      "source": [
        "np.sort(b, axis=0)"
      ],
      "execution_count": null,
      "outputs": []
    },
    {
      "cell_type": "code",
      "metadata": {
        "colab": {
          "background_save": true
        },
        "id": "XHAkTaAbRFPI"
      },
      "source": [
        "np.sort(b, axis=0)"
      ],
      "execution_count": null,
      "outputs": []
    },
    {
      "cell_type": "code",
      "metadata": {
        "colab": {
          "background_save": true
        },
        "id": "bNBfpYRDRpnp"
      },
      "source": [
        "c = np.random.randint(0, 100, size = (2, 4, 5))"
      ],
      "execution_count": null,
      "outputs": []
    },
    {
      "cell_type": "code",
      "metadata": {
        "colab": {
          "background_save": true
        },
        "id": "MlK1ppdFRvpp"
      },
      "source": [
        "c"
      ],
      "execution_count": null,
      "outputs": []
    },
    {
      "cell_type": "code",
      "metadata": {
        "colab": {
          "background_save": true
        },
        "id": "FsKQjqjqSnpM"
      },
      "source": [
        "np.sort(c, axis=1)"
      ],
      "execution_count": null,
      "outputs": []
    },
    {
      "cell_type": "code",
      "metadata": {
        "colab": {
          "background_save": true
        },
        "id": "3PUkOTICS2fK"
      },
      "source": [
        "a = np.arange(12)"
      ],
      "execution_count": null,
      "outputs": []
    },
    {
      "cell_type": "code",
      "metadata": {
        "colab": {
          "background_save": true
        },
        "id": "eHL2w2RIT-No"
      },
      "source": [
        "a"
      ],
      "execution_count": null,
      "outputs": []
    },
    {
      "cell_type": "code",
      "metadata": {
        "colab": {
          "background_save": true
        },
        "id": "LHnpMg_UT-1m"
      },
      "source": [
        "b = np.arange(2)"
      ],
      "execution_count": null,
      "outputs": []
    },
    {
      "cell_type": "code",
      "metadata": {
        "colab": {
          "background_save": true
        },
        "id": "onNHwDKwUBx8"
      },
      "source": [
        "b"
      ],
      "execution_count": null,
      "outputs": []
    },
    {
      "cell_type": "code",
      "metadata": {
        "colab": {
          "background_save": true
        },
        "id": "jgBSdVCTUCV9"
      },
      "source": [
        "np.hstack((a, b))"
      ],
      "execution_count": null,
      "outputs": []
    },
    {
      "cell_type": "code",
      "metadata": {
        "colab": {
          "background_save": true
        },
        "id": "M7LmuhQUUHE4"
      },
      "source": [
        "c = np.arange(2).reshape(1, 2) "
      ],
      "execution_count": null,
      "outputs": []
    },
    {
      "cell_type": "code",
      "metadata": {
        "colab": {
          "background_save": true
        },
        "id": "CvUvUxThUJ6w"
      },
      "source": [
        "c"
      ],
      "execution_count": null,
      "outputs": []
    },
    {
      "cell_type": "code",
      "metadata": {
        "colab": {
          "background_save": true
        },
        "id": "Q_UoThTcUKgG"
      },
      "source": [
        "a.shape"
      ],
      "execution_count": null,
      "outputs": []
    },
    {
      "cell_type": "code",
      "metadata": {
        "colab": {
          "background_save": true
        },
        "id": "jt65dt1QUQgp"
      },
      "source": [
        " d = np.arange(5).reshape(1, 5)"
      ],
      "execution_count": null,
      "outputs": []
    },
    {
      "cell_type": "code",
      "metadata": {
        "colab": {
          "background_save": true
        },
        "id": "9e_m-kNyUWaN"
      },
      "source": [
        "d"
      ],
      "execution_count": null,
      "outputs": []
    },
    {
      "cell_type": "code",
      "metadata": {
        "colab": {
          "background_save": true
        },
        "id": "BLfv5_XGUcuX"
      },
      "source": [
        "a =a.reshape(1,12)"
      ],
      "execution_count": null,
      "outputs": []
    },
    {
      "cell_type": "code",
      "metadata": {
        "colab": {
          "background_save": true
        },
        "id": "AgEtJERVUxzF"
      },
      "source": [
        "a.shape"
      ],
      "execution_count": null,
      "outputs": []
    },
    {
      "cell_type": "code",
      "metadata": {
        "colab": {
          "background_save": true
        },
        "id": "eK-Yz400UW9q"
      },
      "source": [
        "np.hstack((a, d)) "
      ],
      "execution_count": null,
      "outputs": []
    },
    {
      "cell_type": "code",
      "metadata": {
        "colab": {
          "background_save": true
        },
        "id": "RfijyHNTUaBu"
      },
      "source": [
        "a.shape"
      ],
      "execution_count": null,
      "outputs": []
    },
    {
      "cell_type": "code",
      "metadata": {
        "colab": {
          "background_save": true
        },
        "id": "vX4CmSmlUu6q"
      },
      "source": [
        "e = np.arange(12).reshape(2, 2, 3)"
      ],
      "execution_count": null,
      "outputs": []
    },
    {
      "cell_type": "code",
      "metadata": {
        "colab": {
          "background_save": true
        },
        "id": "lvQc4s1nVBVH"
      },
      "source": [
        "e"
      ],
      "execution_count": null,
      "outputs": []
    },
    {
      "cell_type": "code",
      "metadata": {
        "colab": {
          "background_save": true
        },
        "id": "4td4haU9VCLL"
      },
      "source": [
        "f = np.arange(6).reshape(2, 1, 3)"
      ],
      "execution_count": null,
      "outputs": []
    },
    {
      "cell_type": "code",
      "metadata": {
        "colab": {
          "background_save": true
        },
        "id": "87gSLCMvVFUz"
      },
      "source": [
        "f"
      ],
      "execution_count": null,
      "outputs": []
    },
    {
      "cell_type": "code",
      "metadata": {
        "colab": {
          "background_save": true
        },
        "id": "pkvi8VL8VGes"
      },
      "source": [
        "np.hstack((e,f))"
      ],
      "execution_count": null,
      "outputs": []
    },
    {
      "cell_type": "code",
      "metadata": {
        "colab": {
          "background_save": true
        },
        "id": "l19tlR6uVQZa"
      },
      "source": [
        "a = np.arange(12).reshape(-1,1)"
      ],
      "execution_count": null,
      "outputs": []
    },
    {
      "cell_type": "code",
      "metadata": {
        "colab": {
          "background_save": true
        },
        "id": "oIGJ_eqZWe1G"
      },
      "source": [
        "a"
      ],
      "execution_count": null,
      "outputs": []
    },
    {
      "cell_type": "code",
      "metadata": {
        "colab": {
          "background_save": true
        },
        "id": "h_SSObArWfVS"
      },
      "source": [
        "a.shape"
      ],
      "execution_count": null,
      "outputs": []
    },
    {
      "cell_type": "code",
      "metadata": {
        "colab": {
          "background_save": true
        },
        "id": "Ml9TMuE3WhpE"
      },
      "source": [
        "b = np.arange(2).reshape(-1,1)"
      ],
      "execution_count": null,
      "outputs": []
    },
    {
      "cell_type": "code",
      "metadata": {
        "colab": {
          "background_save": true
        },
        "id": "qxLoA5SQWkqP"
      },
      "source": [
        "b.shape"
      ],
      "execution_count": null,
      "outputs": []
    },
    {
      "cell_type": "code",
      "metadata": {
        "colab": {
          "background_save": true
        },
        "id": "EKFQxEnlWl95"
      },
      "source": [
        "c = np.arange(2).reshape(1,2)\n"
      ],
      "execution_count": null,
      "outputs": []
    },
    {
      "cell_type": "code",
      "metadata": {
        "colab": {
          "background_save": true
        },
        "id": "3m4vvBtlWp16"
      },
      "source": [
        "c"
      ],
      "execution_count": null,
      "outputs": []
    },
    {
      "cell_type": "code",
      "metadata": {
        "colab": {
          "background_save": true
        },
        "id": "RF-SJVqUWqcB"
      },
      "source": [
        "c.shape"
      ],
      "execution_count": null,
      "outputs": []
    },
    {
      "cell_type": "code",
      "metadata": {
        "colab": {
          "background_save": true
        },
        "id": "hqnKFd-0Ws_C"
      },
      "source": [
        "a.T"
      ],
      "execution_count": null,
      "outputs": []
    },
    {
      "cell_type": "code",
      "metadata": {
        "colab": {
          "background_save": true
        },
        "id": "Bd2WZ3_EWykB"
      },
      "source": [
        "a"
      ],
      "execution_count": null,
      "outputs": []
    },
    {
      "cell_type": "code",
      "metadata": {
        "colab": {
          "background_save": true
        },
        "id": "m3iRR4vAWz0v"
      },
      "source": [
        "c = c.T"
      ],
      "execution_count": null,
      "outputs": []
    },
    {
      "cell_type": "code",
      "metadata": {
        "colab": {
          "background_save": true
        },
        "id": "2vJxhhYPW5T8"
      },
      "source": [
        "c"
      ],
      "execution_count": null,
      "outputs": []
    },
    {
      "cell_type": "code",
      "metadata": {
        "colab": {
          "background_save": true
        },
        "id": "L0BSDtuhW54K"
      },
      "source": [
        "np.vstack((a,c)) "
      ],
      "execution_count": null,
      "outputs": []
    },
    {
      "cell_type": "code",
      "metadata": {
        "colab": {
          "background_save": true
        },
        "id": "Mbd64wjKW8cj"
      },
      "source": [
        "d"
      ],
      "execution_count": null,
      "outputs": []
    },
    {
      "cell_type": "code",
      "metadata": {
        "colab": {
          "background_save": true
        },
        "id": "Ik4VQuSuXF-m"
      },
      "source": [
        "d = np.arange(4).reshape(2,2)"
      ],
      "execution_count": null,
      "outputs": []
    },
    {
      "cell_type": "code",
      "metadata": {
        "colab": {
          "background_save": true
        },
        "id": "7lstNI_OXV_r"
      },
      "source": [
        "d"
      ],
      "execution_count": null,
      "outputs": []
    },
    {
      "cell_type": "code",
      "metadata": {
        "colab": {
          "background_save": true
        },
        "id": "LlbWirTnZ5Sb"
      },
      "source": [
        "c = c.T"
      ],
      "execution_count": null,
      "outputs": []
    },
    {
      "cell_type": "code",
      "metadata": {
        "colab": {
          "background_save": true
        },
        "id": "m2GdY_flXheB"
      },
      "source": [
        " np.vstack((c, d))"
      ],
      "execution_count": null,
      "outputs": []
    },
    {
      "cell_type": "code",
      "metadata": {
        "colab": {
          "background_save": true
        },
        "id": "JQGVDA5lZ0Qd"
      },
      "source": [
        " e = np.arange(24).reshape(4, 3, 2)"
      ],
      "execution_count": null,
      "outputs": []
    },
    {
      "cell_type": "code",
      "metadata": {
        "colab": {
          "background_save": true
        },
        "id": "G5G6bLQdaWpn"
      },
      "source": [
        "e"
      ],
      "execution_count": null,
      "outputs": []
    },
    {
      "cell_type": "code",
      "metadata": {
        "colab": {
          "background_save": true
        },
        "id": "FXysxBtcaXOH"
      },
      "source": [
        " f = np.arange(6).reshape(1, 3, 2)\n"
      ],
      "execution_count": null,
      "outputs": []
    },
    {
      "cell_type": "code",
      "metadata": {
        "colab": {
          "background_save": true
        },
        "id": "eD3HO1sKaaw6"
      },
      "source": [
        "f"
      ],
      "execution_count": null,
      "outputs": []
    },
    {
      "cell_type": "code",
      "metadata": {
        "colab": {
          "background_save": true
        },
        "id": "fIamZSgcadEO"
      },
      "source": [
        "g = np.vstack((e, f))"
      ],
      "execution_count": null,
      "outputs": []
    },
    {
      "cell_type": "code",
      "metadata": {
        "colab": {
          "background_save": true
        },
        "id": "Nmdzwf2NakOL"
      },
      "source": [
        "g"
      ],
      "execution_count": null,
      "outputs": []
    },
    {
      "cell_type": "code",
      "metadata": {
        "colab": {
          "background_save": true
        },
        "id": "84BHljy9alG5"
      },
      "source": [
        "%matplotlib inline"
      ],
      "execution_count": null,
      "outputs": []
    },
    {
      "cell_type": "code",
      "metadata": {
        "colab": {
          "background_save": true
        },
        "id": "868hqfnZbHHt"
      },
      "source": [
        "import numpy as np\n"
      ],
      "execution_count": null,
      "outputs": []
    },
    {
      "cell_type": "code",
      "metadata": {
        "colab": {
          "background_save": true
        },
        "id": "3j97R6rSbIw2"
      },
      "source": [
        "import matplotlib.pyplot as plt\n"
      ],
      "execution_count": null,
      "outputs": []
    },
    {
      "cell_type": "code",
      "metadata": {
        "colab": {
          "background_save": true
        },
        "id": "D4AcGYchbLYV"
      },
      "source": [
        "import numpy as np"
      ],
      "execution_count": null,
      "outputs": []
    },
    {
      "cell_type": "code",
      "metadata": {
        "colab": {
          "background_save": true
        },
        "id": "Bvtdli5Am3du"
      },
      "source": [
        "import matplotlib.pyplot as plt"
      ],
      "execution_count": null,
      "outputs": []
    },
    {
      "cell_type": "code",
      "metadata": {
        "colab": {
          "background_save": true
        },
        "id": "FW6u_6iNm5hy"
      },
      "source": [
        "X = np.linspace(-10, 10, 1000)\n"
      ],
      "execution_count": null,
      "outputs": []
    },
    {
      "cell_type": "code",
      "metadata": {
        "colab": {
          "background_save": true
        },
        "id": "rvtqQYvvm7YG"
      },
      "source": [
        "y = np.sin(X)"
      ],
      "execution_count": null,
      "outputs": []
    },
    {
      "cell_type": "code",
      "metadata": {
        "colab": {
          "background_save": true
        },
        "id": "X_VIwJxBm9zk"
      },
      "source": [
        "plt.plot(X, y)"
      ],
      "execution_count": null,
      "outputs": []
    },
    {
      "cell_type": "code",
      "metadata": {
        "colab": {
          "background_save": true
        },
        "id": "oWWPMa9xm_9z"
      },
      "source": [
        "plt.show()"
      ],
      "execution_count": null,
      "outputs": []
    },
    {
      "cell_type": "code",
      "metadata": {
        "colab": {
          "background_save": true
        },
        "id": "YuPJ9nZ3nFWD"
      },
      "source": [
        "plt.grid(True)"
      ],
      "execution_count": null,
      "outputs": []
    },
    {
      "cell_type": "code",
      "metadata": {
        "colab": {
          "background_save": true
        },
        "id": "hIPKHLEQnMZ5"
      },
      "source": [
        "plt.plot(X, y)"
      ],
      "execution_count": null,
      "outputs": []
    },
    {
      "cell_type": "code",
      "metadata": {
        "colab": {
          "background_save": true
        },
        "id": "Q-pK6aYDnORt"
      },
      "source": [
        "plt.show()"
      ],
      "execution_count": null,
      "outputs": []
    },
    {
      "cell_type": "code",
      "metadata": {
        "colab": {
          "background_save": true
        },
        "id": "M0VABomgnQny"
      },
      "source": [
        "plt.grid(True)"
      ],
      "execution_count": null,
      "outputs": []
    },
    {
      "cell_type": "code",
      "metadata": {
        "colab": {
          "background_save": true
        },
        "id": "11kxA82tnVq9"
      },
      "source": [
        "plt.show()"
      ],
      "execution_count": null,
      "outputs": []
    },
    {
      "cell_type": "code",
      "metadata": {
        "colab": {
          "background_save": true
        },
        "id": "N6xPzOhqnavS"
      },
      "source": [
        "import numpy as np"
      ],
      "execution_count": null,
      "outputs": []
    },
    {
      "cell_type": "code",
      "metadata": {
        "colab": {
          "background_save": true
        },
        "id": "nOAu7SkAqRWi"
      },
      "source": [
        "np.zeros(10)"
      ],
      "execution_count": null,
      "outputs": []
    },
    {
      "cell_type": "code",
      "metadata": {
        "colab": {
          "background_save": true
        },
        "id": "vYwuYjArqTb2"
      },
      "source": [
        "a = np.zeros(10, dtype = int)"
      ],
      "execution_count": null,
      "outputs": []
    },
    {
      "cell_type": "code",
      "metadata": {
        "colab": {
          "background_save": true
        },
        "id": "M3KvAbPqqdcA"
      },
      "source": [
        "type(a)"
      ],
      "execution_count": null,
      "outputs": []
    },
    {
      "cell_type": "code",
      "metadata": {
        "colab": {
          "background_save": true
        },
        "id": "NIVY70q8qgV5"
      },
      "source": [
        "np.zeros((3,4))"
      ],
      "execution_count": null,
      "outputs": []
    },
    {
      "cell_type": "code",
      "metadata": {
        "colab": {
          "background_save": true
        },
        "id": "a0NpD3XlqsbQ"
      },
      "source": [
        "import numpy as np"
      ],
      "execution_count": null,
      "outputs": []
    },
    {
      "cell_type": "code",
      "metadata": {
        "colab": {
          "background_save": true
        },
        "id": "ZNk4kDLyq_ZA"
      },
      "source": [
        "def zeros():\n",
        "  for i in range(10000):\n",
        "    _ = np.empty((1, i))"
      ],
      "execution_count": null,
      "outputs": []
    },
    {
      "cell_type": "code",
      "metadata": {
        "colab": {
          "background_save": true
        },
        "id": "nM0C93KkrKif"
      },
      "source": [
        "def empty():\n",
        "  for i in range(10000):\n",
        "    _ = np.empty((1, i))"
      ],
      "execution_count": null,
      "outputs": []
    },
    {
      "cell_type": "code",
      "metadata": {
        "colab": {
          "background_save": true
        },
        "id": "WcP0LbqxrSxT"
      },
      "source": [
        "%timeit zeros()\n"
      ],
      "execution_count": null,
      "outputs": []
    },
    {
      "cell_type": "code",
      "metadata": {
        "colab": {
          "background_save": true
        },
        "id": "pJ2jq9zwrUmE"
      },
      "source": [
        "%timeit empty()"
      ],
      "execution_count": null,
      "outputs": []
    },
    {
      "cell_type": "code",
      "metadata": {
        "colab": {
          "background_save": true
        },
        "id": "i1HtXw14rak1"
      },
      "source": [
        "np.ones(3)"
      ],
      "execution_count": null,
      "outputs": []
    },
    {
      "cell_type": "code",
      "metadata": {
        "colab": {
          "background_save": true
        },
        "id": "BM8xOvubsVgM"
      },
      "source": [
        "np.ones((10,6,20))"
      ],
      "execution_count": null,
      "outputs": []
    },
    {
      "cell_type": "code",
      "metadata": {
        "colab": {
          "background_save": true
        },
        "id": "Aa7OjE_osXax"
      },
      "source": [
        "np.ones(4, dtype=\"float32\")"
      ],
      "execution_count": null,
      "outputs": []
    },
    {
      "cell_type": "code",
      "metadata": {
        "colab": {
          "background_save": true
        },
        "id": "uy2Q7m5qsuPB"
      },
      "source": [
        "np.ones(4, dtype=\"int8\")"
      ],
      "execution_count": null,
      "outputs": []
    },
    {
      "cell_type": "code",
      "metadata": {
        "colab": {
          "background_save": true
        },
        "id": "IlswdG5wsxMq"
      },
      "source": [
        "np.ones((2,3), dtype = \"complex\")"
      ],
      "execution_count": null,
      "outputs": []
    },
    {
      "cell_type": "code",
      "metadata": {
        "colab": {
          "background_save": true
        },
        "id": "uwaszLMjs1NV"
      },
      "source": [
        "b = np.ones(a.shape)"
      ],
      "execution_count": null,
      "outputs": []
    },
    {
      "cell_type": "code",
      "metadata": {
        "colab": {
          "background_save": true
        },
        "id": "DFnDbQ5uuP41"
      },
      "source": [
        "a"
      ],
      "execution_count": null,
      "outputs": []
    },
    {
      "cell_type": "code",
      "metadata": {
        "colab": {
          "background_save": true
        },
        "id": "cAVsFC4luTHG"
      },
      "source": [
        "b = np.ones_like(a)\n"
      ],
      "execution_count": null,
      "outputs": []
    },
    {
      "cell_type": "code",
      "metadata": {
        "colab": {
          "background_save": true
        },
        "id": "IOBMnDa-uZny"
      },
      "source": [
        "b"
      ],
      "execution_count": null,
      "outputs": []
    },
    {
      "cell_type": "code",
      "metadata": {
        "colab": {
          "background_save": true
        },
        "id": "42o6g7D2uU99"
      },
      "source": [
        "a = np.array([[1,2,3],[2,3,4]])\n"
      ],
      "execution_count": null,
      "outputs": []
    },
    {
      "cell_type": "code",
      "metadata": {
        "colab": {
          "background_save": true
        },
        "id": "eh9JapcDuXeT"
      },
      "source": [
        "b = np.array([2,3,4], dtype = \"int8\" )"
      ],
      "execution_count": null,
      "outputs": []
    },
    {
      "cell_type": "code",
      "metadata": {
        "colab": {
          "background_save": true
        },
        "id": "KURQcJ9wusTn"
      },
      "source": [
        "b"
      ],
      "execution_count": null,
      "outputs": []
    },
    {
      "cell_type": "code",
      "metadata": {
        "colab": {
          "background_save": true
        },
        "id": "XscwgJ6kutyM"
      },
      "source": [
        "np.ones_like(b)"
      ],
      "execution_count": null,
      "outputs": []
    },
    {
      "cell_type": "code",
      "metadata": {
        "colab": {
          "background_save": true
        },
        "id": "IDI7F_eUuyQt"
      },
      "source": [
        "np.arange(5)"
      ],
      "execution_count": null,
      "outputs": []
    },
    {
      "cell_type": "code",
      "metadata": {
        "colab": {
          "background_save": true
        },
        "id": "gff5F9NQxtUk"
      },
      "source": [
        "np.arange(-10)"
      ],
      "execution_count": null,
      "outputs": []
    },
    {
      "cell_type": "code",
      "metadata": {
        "colab": {
          "background_save": true
        },
        "id": "Yxgcrl1YzAKS"
      },
      "source": [
        "np.arange(4.5)"
      ],
      "execution_count": null,
      "outputs": []
    },
    {
      "cell_type": "code",
      "metadata": {
        "colab": {
          "background_save": true
        },
        "id": "CCtMm1hbzD1R"
      },
      "source": [
        "a = np.arange(0.5, 5.5) "
      ],
      "execution_count": null,
      "outputs": []
    },
    {
      "cell_type": "code",
      "metadata": {
        "colab": {
          "background_save": true
        },
        "id": "OhGgegyEzRiA"
      },
      "source": [
        "type(a)"
      ],
      "execution_count": null,
      "outputs": []
    },
    {
      "cell_type": "code",
      "metadata": {
        "colab": {
          "background_save": true
        },
        "id": "tMPUZfGIzTl-"
      },
      "source": [
        "np.arange(5, 2, -1)"
      ],
      "execution_count": null,
      "outputs": []
    },
    {
      "cell_type": "code",
      "metadata": {
        "colab": {
          "background_save": true
        },
        "id": "nky3Qh4z0uZH"
      },
      "source": [
        "np.arange(stop = 3, step = 1)"
      ],
      "execution_count": null,
      "outputs": []
    },
    {
      "cell_type": "code",
      "metadata": {
        "colab": {
          "background_save": true
        },
        "id": "JuCbzsqh07en"
      },
      "source": [
        "np.arange(5.0, dtype = 'int')"
      ],
      "execution_count": null,
      "outputs": []
    },
    {
      "cell_type": "code",
      "metadata": {
        "colab": {
          "background_save": true
        },
        "id": "GNv3duD62Jvz"
      },
      "source": [
        "a =np.arange(0, 5, 0.5, dtype = 'int') "
      ],
      "execution_count": null,
      "outputs": []
    },
    {
      "cell_type": "code",
      "metadata": {
        "colab": {
          "background_save": true
        },
        "id": "cvCgsxqO2bN9"
      },
      "source": [
        "len(a)"
      ],
      "execution_count": null,
      "outputs": []
    },
    {
      "cell_type": "code",
      "metadata": {
        "colab": {
          "background_save": true
        },
        "id": "lgWs28mU2h6V"
      },
      "source": [
        "np.arange(0, 99, 1, dtype = 'int')"
      ],
      "execution_count": null,
      "outputs": []
    },
    {
      "cell_type": "code",
      "metadata": {
        "colab": {
          "background_save": true
        },
        "id": "Q5hLLF_M3Dnv"
      },
      "source": [
        "np.linspace(0, 49,retstep = True)"
      ],
      "execution_count": null,
      "outputs": []
    },
    {
      "cell_type": "code",
      "metadata": {
        "colab": {
          "background_save": true
        },
        "id": "EKlYVQ3f4agH"
      },
      "source": [
        "np.linspace(0, -2, 3)"
      ],
      "execution_count": null,
      "outputs": []
    },
    {
      "cell_type": "code",
      "metadata": {
        "colab": {
          "background_save": true
        },
        "id": "BhOOePWp43_S"
      },
      "source": [
        "np.linspace(0, 2, num = 3, endpoint = True)"
      ],
      "execution_count": null,
      "outputs": []
    },
    {
      "cell_type": "code",
      "metadata": {
        "colab": {
          "background_save": true
        },
        "id": "2yXwwYsl6aw8"
      },
      "source": [
        "np.linspace(0, 1,2, retstep = True) "
      ],
      "execution_count": null,
      "outputs": []
    },
    {
      "cell_type": "code",
      "metadata": {
        "colab": {
          "background_save": true
        },
        "id": "_I2LsfW36-BZ"
      },
      "source": [
        "a =np.linspace(0, 2, num = 3)"
      ],
      "execution_count": null,
      "outputs": []
    },
    {
      "cell_type": "code",
      "metadata": {
        "colab": {
          "background_save": true
        },
        "id": "-wMKSQbd7hUf"
      },
      "source": [
        "type(a)"
      ],
      "execution_count": null,
      "outputs": []
    },
    {
      "cell_type": "code",
      "metadata": {
        "colab": {
          "background_save": true
        },
        "id": "UYQjq5Zg7nsX"
      },
      "source": [
        "print(a.dtype)"
      ],
      "execution_count": null,
      "outputs": []
    },
    {
      "cell_type": "code",
      "metadata": {
        "colab": {
          "background_save": true
        },
        "id": "pjS9pVAX9QMC"
      },
      "source": [
        "a=np.linspace(0, 2, num = 3, dtype = 'int')"
      ],
      "execution_count": null,
      "outputs": []
    },
    {
      "cell_type": "code",
      "metadata": {
        "colab": {
          "background_save": true
        },
        "id": "xCv_hqMX99_z"
      },
      "source": [
        "a.dtype"
      ],
      "execution_count": null,
      "outputs": []
    },
    {
      "cell_type": "code",
      "metadata": {
        "colab": {
          "background_save": true
        },
        "id": "lsgRVGxH9_Lk"
      },
      "source": [
        ""
      ],
      "execution_count": null,
      "outputs": []
    },
    {
      "cell_type": "code",
      "metadata": {
        "colab": {
          "background_save": true
        },
        "id": "v2CF52Rn91MX"
      },
      "source": [
        "np.linspace(0, 1, num = 4, dtype = 'float32')"
      ],
      "execution_count": null,
      "outputs": []
    },
    {
      "cell_type": "code",
      "metadata": {
        "colab": {
          "background_save": true
        },
        "id": "2xipXQfj95BV"
      },
      "source": [
        "np.eye(3)"
      ],
      "execution_count": null,
      "outputs": []
    },
    {
      "cell_type": "code",
      "metadata": {
        "colab": {
          "background_save": true
        },
        "id": "RJFE6qQxAk1c"
      },
      "source": [
        "np.eye(10)"
      ],
      "execution_count": null,
      "outputs": []
    },
    {
      "cell_type": "code",
      "metadata": {
        "colab": {
          "background_save": true
        },
        "id": "HFYwQWdxAop6"
      },
      "source": [
        "np.eye(2, 3)"
      ],
      "execution_count": null,
      "outputs": []
    },
    {
      "cell_type": "code",
      "metadata": {
        "colab": {
          "background_save": true
        },
        "id": "123-GaEfCS-3"
      },
      "source": [
        "np.eye(5,10, k=-1)"
      ],
      "execution_count": null,
      "outputs": []
    },
    {
      "cell_type": "code",
      "metadata": {
        "colab": {
          "background_save": true
        },
        "id": "Nooi9vfMCYdQ"
      },
      "source": [
        "np.identity(5)"
      ],
      "execution_count": null,
      "outputs": []
    },
    {
      "cell_type": "code",
      "metadata": {
        "colab": {
          "background_save": true
        },
        "id": "3YqZH3sjC-wQ"
      },
      "source": [
        "a =np.identity(3, dtype=int)"
      ],
      "execution_count": null,
      "outputs": []
    },
    {
      "cell_type": "code",
      "metadata": {
        "colab": {
          "background_save": true
        },
        "id": "N-v_l8g0D4fl"
      },
      "source": [
        "a.dtype"
      ],
      "execution_count": null,
      "outputs": []
    },
    {
      "cell_type": "code",
      "metadata": {
        "colab": {
          "background_save": true
        },
        "id": "UKYZJaWwDxP7"
      },
      "source": [
        "np.identity(4, dtype=\"float32\")"
      ],
      "execution_count": null,
      "outputs": []
    },
    {
      "cell_type": "code",
      "metadata": {
        "colab": {
          "background_save": true
        },
        "id": "v76LCVwuDzzw"
      },
      "source": [
        "%timeit np.eye(10000)"
      ],
      "execution_count": null,
      "outputs": []
    },
    {
      "cell_type": "code",
      "metadata": {
        "colab": {
          "background_save": true
        },
        "id": "SQ5bUAVkD-gG"
      },
      "source": [
        "%timeit np.identity(10000)"
      ],
      "execution_count": null,
      "outputs": []
    },
    {
      "cell_type": "code",
      "metadata": {
        "colab": {
          "background_save": true
        },
        "id": "oaoJNT8SGWI6"
      },
      "source": [
        "import numpy as np\n"
      ],
      "execution_count": null,
      "outputs": []
    },
    {
      "cell_type": "code",
      "metadata": {
        "colab": {
          "background_save": true
        },
        "id": "dzI6Pt2kEBrj"
      },
      "source": [
        "np.empty(10)"
      ],
      "execution_count": null,
      "outputs": []
    },
    {
      "cell_type": "code",
      "metadata": {
        "colab": {
          "background_save": true
        },
        "id": "r2yi-uXLF5uj"
      },
      "source": [
        "np.empty((2, 3)) "
      ],
      "execution_count": null,
      "outputs": []
    },
    {
      "cell_type": "code",
      "metadata": {
        "colab": {
          "background_save": true
        },
        "id": "f_J17D6uGBuC"
      },
      "source": [
        "np.empty(5, dtype = np.int8)"
      ],
      "execution_count": null,
      "outputs": []
    },
    {
      "cell_type": "code",
      "metadata": {
        "colab": {
          "background_save": true
        },
        "id": "BL5YJv_uGJhk"
      },
      "source": [
        "np.empty(10, dtype = np.bool) "
      ],
      "execution_count": null,
      "outputs": []
    },
    {
      "cell_type": "code",
      "metadata": {
        "colab": {
          "background_save": true
        },
        "id": "3VwHLlegGOqs"
      },
      "source": [
        "np.empty(10, dtype= complex) "
      ],
      "execution_count": null,
      "outputs": []
    },
    {
      "cell_type": "code",
      "metadata": {
        "colab": {
          "background_save": true
        },
        "id": "TJggArr1GU2G"
      },
      "source": [
        "%timeit np.zeros(10000)\n"
      ],
      "execution_count": null,
      "outputs": []
    },
    {
      "cell_type": "code",
      "metadata": {
        "colab": {
          "background_save": true
        },
        "id": "q7CUQi-dHYWO"
      },
      "source": [
        "(b-a) * rand() + a "
      ],
      "execution_count": null,
      "outputs": []
    },
    {
      "cell_type": "code",
      "metadata": {
        "colab": {
          "background_save": true
        },
        "id": "Kp6LJTCdIOUd"
      },
      "source": [
        "from numpy.random import * "
      ],
      "execution_count": null,
      "outputs": []
    },
    {
      "cell_type": "code",
      "metadata": {
        "colab": {
          "background_save": true
        },
        "id": "k5qSG-4fISsx"
      },
      "source": [
        "rand()"
      ],
      "execution_count": null,
      "outputs": []
    },
    {
      "cell_type": "code",
      "metadata": {
        "colab": {
          "background_save": true
        },
        "id": "5wh73THDIWHj"
      },
      "source": [
        "randint(10, size =(2,3))"
      ],
      "execution_count": null,
      "outputs": []
    },
    {
      "cell_type": "code",
      "metadata": {
        "colab": {
          "background_save": true
        },
        "id": "P64NuwpRIe0T"
      },
      "source": [
        "randint(10, size =(2,3)) "
      ],
      "execution_count": null,
      "outputs": []
    },
    {
      "cell_type": "code",
      "metadata": {
        "colab": {
          "background_save": true
        },
        "id": "9olCzxQKLrfG"
      },
      "source": [
        "randint(5,10, size = 10)"
      ],
      "execution_count": null,
      "outputs": []
    },
    {
      "cell_type": "code",
      "metadata": {
        "colab": {
          "background_save": true
        },
        "id": "puvH_ZBXLvtS"
      },
      "source": [
        "(10-5)*rand(10) +5"
      ],
      "execution_count": null,
      "outputs": []
    },
    {
      "cell_type": "code",
      "metadata": {
        "colab": {
          "background_save": true
        },
        "id": "2S4va_MCL3KJ"
      },
      "source": [
        "from numpy.random import *"
      ],
      "execution_count": null,
      "outputs": []
    },
    {
      "cell_type": "code",
      "metadata": {
        "colab": {
          "background_save": true
        },
        "id": "xhgFxBkKR4lL"
      },
      "source": [
        "seed(seed = 21) "
      ],
      "execution_count": null,
      "outputs": []
    },
    {
      "cell_type": "code",
      "metadata": {
        "colab": {
          "background_save": true
        },
        "id": "F86oKxPMR6r5"
      },
      "source": [
        "rand()"
      ],
      "execution_count": null,
      "outputs": []
    },
    {
      "cell_type": "code",
      "metadata": {
        "colab": {
          "background_save": true
        },
        "id": "_xempMtbR9Vx"
      },
      "source": [
        "seed(21)"
      ],
      "execution_count": null,
      "outputs": []
    },
    {
      "cell_type": "code",
      "metadata": {
        "colab": {
          "background_save": true
        },
        "id": "XiNZ6N8lSElI"
      },
      "source": [
        "rand()"
      ],
      "execution_count": null,
      "outputs": []
    },
    {
      "cell_type": "code",
      "metadata": {
        "colab": {
          "background_save": true
        },
        "id": "5nMfZP70SGtr"
      },
      "source": [
        "seed(10)"
      ],
      "execution_count": null,
      "outputs": []
    },
    {
      "cell_type": "code",
      "metadata": {
        "colab": {
          "background_save": true
        },
        "id": "VjGwo5ZLSPnZ"
      },
      "source": [
        "rand(20)"
      ],
      "execution_count": null,
      "outputs": []
    },
    {
      "cell_type": "code",
      "metadata": {
        "colab": {
          "background_save": true
        },
        "id": "j2gN7-VpSRnv"
      },
      "source": [
        "from numpy.random import *"
      ],
      "execution_count": null,
      "outputs": []
    },
    {
      "cell_type": "code",
      "metadata": {
        "colab": {
          "background_save": true
        },
        "id": "BTeruOrkX1uI"
      },
      "source": [
        " a = ['Python', 'Ruby', 'Java', 'JavaScript', 'PHP']"
      ],
      "execution_count": null,
      "outputs": []
    },
    {
      "cell_type": "code",
      "metadata": {
        "colab": {
          "background_save": true
        },
        "id": "5CKks7AOX3WF"
      },
      "source": [
        "a"
      ],
      "execution_count": null,
      "outputs": []
    },
    {
      "cell_type": "code",
      "metadata": {
        "colab": {
          "background_save": true
        },
        "id": "qdAXrnobX4qI"
      },
      "source": [
        "choice(a, 3)  "
      ],
      "execution_count": null,
      "outputs": []
    },
    {
      "cell_type": "code",
      "metadata": {
        "colab": {
          "background_save": true
        },
        "id": "sVeOwuFzX7Aj"
      },
      "source": [
        "choice(a, 3)  "
      ],
      "execution_count": null,
      "outputs": []
    },
    {
      "cell_type": "code",
      "metadata": {
        "colab": {
          "background_save": true
        },
        "id": "rZ2TifBuX9n0"
      },
      "source": [
        "choice(a, 3)  "
      ],
      "execution_count": null,
      "outputs": []
    },
    {
      "cell_type": "code",
      "metadata": {
        "colab": {
          "background_save": true
        },
        "id": "GOG7ue7rX-d9"
      },
      "source": [
        "choice(a, 3)  "
      ],
      "execution_count": null,
      "outputs": []
    },
    {
      "cell_type": "code",
      "metadata": {
        "colab": {
          "background_save": true
        },
        "id": "beAwG03rX_IS"
      },
      "source": [
        "choice(a, 5, replace = False) "
      ],
      "execution_count": null,
      "outputs": []
    },
    {
      "cell_type": "code",
      "metadata": {
        "colab": {
          "background_save": true
        },
        "id": "b4pkFgxqYCUU"
      },
      "source": [
        "choice(a, 5, replace = False) "
      ],
      "execution_count": null,
      "outputs": []
    },
    {
      "cell_type": "code",
      "metadata": {
        "colab": {
          "background_save": true
        },
        "id": "4Dz5ZDK9YEaj"
      },
      "source": [
        "choice(a, 20, p = [0.8, 0.05, 0.05, 0.05, 0.05])"
      ],
      "execution_count": null,
      "outputs": []
    },
    {
      "cell_type": "code",
      "metadata": {
        "colab": {
          "background_save": true
        },
        "id": "H7IGgpMyYjaD"
      },
      "source": [
        "dfrom numpy.random import *\n"
      ],
      "execution_count": null,
      "outputs": []
    },
    {
      "cell_type": "code",
      "metadata": {
        "colab": {
          "background_save": true
        },
        "id": "ZoM7lBwtYk97"
      },
      "source": [
        "a = np.arange(10)\n"
      ],
      "execution_count": null,
      "outputs": []
    },
    {
      "cell_type": "code",
      "metadata": {
        "colab": {
          "background_save": true
        },
        "id": "y6JzQZl4YmTQ"
      },
      "source": [
        "a"
      ],
      "execution_count": null,
      "outputs": []
    },
    {
      "cell_type": "code",
      "metadata": {
        "colab": {
          "background_save": true
        },
        "id": "f529F6dzYsVF"
      },
      "source": [
        " shuffle(a)"
      ],
      "execution_count": null,
      "outputs": []
    },
    {
      "cell_type": "code",
      "metadata": {
        "colab": {
          "background_save": true
        },
        "id": "OiMgjPf5YwQJ"
      },
      "source": [
        "a"
      ],
      "execution_count": null,
      "outputs": []
    },
    {
      "cell_type": "code",
      "metadata": {
        "colab": {
          "background_save": true
        },
        "id": "JxsPK4RVYwvi"
      },
      "source": [
        "randn()"
      ],
      "execution_count": null,
      "outputs": []
    },
    {
      "cell_type": "code",
      "metadata": {
        "colab": {
          "background_save": true
        },
        "id": "SZB1RR7kY6zO"
      },
      "source": [
        "randn(10)"
      ],
      "execution_count": null,
      "outputs": []
    },
    {
      "cell_type": "code",
      "metadata": {
        "colab": {
          "background_save": true
        },
        "id": "H6PHEKYZY-zJ"
      },
      "source": [
        "normal(loc = 1,scale =  99.0, size = 10) "
      ],
      "execution_count": null,
      "outputs": []
    },
    {
      "cell_type": "code",
      "metadata": {
        "colab": {
          "background_save": true
        },
        "id": "2fIynNTbZFRZ"
      },
      "source": [
        "normal(size = 10) "
      ],
      "execution_count": null,
      "outputs": []
    },
    {
      "cell_type": "code",
      "metadata": {
        "colab": {
          "background_save": true
        },
        "id": "cyqkYeeqZViO"
      },
      "source": [
        "a = binomial(100, 0.5, 30)"
      ],
      "execution_count": null,
      "outputs": []
    },
    {
      "cell_type": "code",
      "metadata": {
        "colab": {
          "background_save": true
        },
        "id": "xvvs1Hf_apMz"
      },
      "source": [
        "len(a)"
      ],
      "execution_count": null,
      "outputs": []
    },
    {
      "cell_type": "code",
      "metadata": {
        "colab": {
          "background_save": true
        },
        "id": "e7VL4bEoat72"
      },
      "source": [
        "beta(1, 2, size = 10)"
      ],
      "execution_count": null,
      "outputs": []
    },
    {
      "cell_type": "code",
      "metadata": {
        "colab": {
          "background_save": true
        },
        "id": "pbrey4vEa0jf"
      },
      "source": [
        "import numpy as np"
      ],
      "execution_count": null,
      "outputs": []
    },
    {
      "cell_type": "code",
      "metadata": {
        "colab": {
          "background_save": true
        },
        "id": "VBAJ0edOcBGx"
      },
      "source": [
        "a = np.arange(10).reshape(2,5)"
      ],
      "execution_count": null,
      "outputs": []
    },
    {
      "cell_type": "code",
      "metadata": {
        "colab": {
          "background_save": true
        },
        "id": "dG66GOvOcDLw"
      },
      "source": [
        "a"
      ],
      "execution_count": null,
      "outputs": []
    },
    {
      "cell_type": "code",
      "metadata": {
        "colab": {
          "background_save": true
        },
        "id": "OXKWS0nvcEIY"
      },
      "source": [
        "b = a.flatten() "
      ],
      "execution_count": null,
      "outputs": []
    },
    {
      "cell_type": "code",
      "metadata": {
        "colab": {
          "background_save": true
        },
        "id": "zJZ9IxVVcHmi"
      },
      "source": [
        "b"
      ],
      "execution_count": null,
      "outputs": []
    },
    {
      "cell_type": "code",
      "metadata": {
        "colab": {
          "background_save": true
        },
        "id": "Ysaf_SyacIiY"
      },
      "source": [
        "a"
      ],
      "execution_count": null,
      "outputs": []
    },
    {
      "cell_type": "code",
      "metadata": {
        "colab": {
          "background_save": true
        },
        "id": "JhRzSNagcKtT"
      },
      "source": [
        "a.shape"
      ],
      "execution_count": null,
      "outputs": []
    },
    {
      "cell_type": "code",
      "metadata": {
        "colab": {
          "background_save": true
        },
        "id": "9Wskm18wcqiN"
      },
      "source": [
        "b.reshape(2,5)"
      ],
      "execution_count": null,
      "outputs": []
    },
    {
      "cell_type": "code",
      "metadata": {
        "colab": {
          "background_save": true
        },
        "id": "1PO4Li02csyu"
      },
      "source": [
        "c = np.arange(12).reshape(2,2,3)"
      ],
      "execution_count": null,
      "outputs": []
    },
    {
      "cell_type": "code",
      "metadata": {
        "colab": {
          "background_save": true
        },
        "id": "Rj4oVQjRdEQd"
      },
      "source": [
        "2"
      ],
      "execution_count": null,
      "outputs": []
    },
    {
      "cell_type": "code",
      "metadata": {
        "colab": {
          "background_save": true
        },
        "id": "jriqc3rNdFE5"
      },
      "source": [
        "c"
      ],
      "execution_count": null,
      "outputs": []
    },
    {
      "cell_type": "code",
      "metadata": {
        "colab": {
          "background_save": true
        },
        "id": "kucBcs-zdFs9"
      },
      "source": [
        "d = c.flatten()"
      ],
      "execution_count": null,
      "outputs": []
    },
    {
      "cell_type": "code",
      "metadata": {
        "colab": {
          "background_save": true
        },
        "id": "Sh3pQo9mdYM2"
      },
      "source": [
        "c"
      ],
      "execution_count": null,
      "outputs": []
    },
    {
      "cell_type": "code",
      "metadata": {
        "colab": {
          "background_save": true
        },
        "id": "mJEpC_JWdaAV"
      },
      "source": [
        "d"
      ],
      "execution_count": null,
      "outputs": []
    },
    {
      "cell_type": "code",
      "metadata": {
        "colab": {
          "background_save": true
        },
        "id": "2DESnlYJdbGx"
      },
      "source": [
        "arr = np.repeat(5, 10000).reshape(250, 40)"
      ],
      "execution_count": null,
      "outputs": []
    },
    {
      "cell_type": "code",
      "metadata": {
        "colab": {
          "background_save": true
        },
        "id": "J2qtZBcmdiwG"
      },
      "source": [
        "%timeit arr.flatten()\n"
      ],
      "execution_count": null,
      "outputs": []
    },
    {
      "cell_type": "code",
      "metadata": {
        "colab": {
          "background_save": true
        },
        "id": "dJ4Nw1DBdkS4"
      },
      "source": [
        "%timeit np.ravel(arr)\n"
      ],
      "execution_count": null,
      "outputs": []
    },
    {
      "cell_type": "code",
      "metadata": {
        "colab": {
          "background_save": true
        },
        "id": "QDS7MEJIdoLT"
      },
      "source": [
        "a = np.random.randn(3,4)"
      ],
      "execution_count": null,
      "outputs": []
    },
    {
      "cell_type": "code",
      "metadata": {
        "colab": {
          "background_save": true
        },
        "id": "TjPa-AeafbSa"
      },
      "source": [
        "np.savetxt('sample.txt', a)"
      ],
      "execution_count": null,
      "outputs": []
    },
    {
      "cell_type": "code",
      "metadata": {
        "colab": {
          "background_save": true
        },
        "id": "PnpUsCFIfehu"
      },
      "source": [
        "b = np.loadtxt('sample.txt')"
      ],
      "execution_count": null,
      "outputs": []
    },
    {
      "cell_type": "code",
      "metadata": {
        "colab": {
          "background_save": true
        },
        "id": "ZLMObAXWfgph"
      },
      "source": [
        "a"
      ],
      "execution_count": null,
      "outputs": []
    },
    {
      "cell_type": "code",
      "metadata": {
        "colab": {
          "background_save": true
        },
        "id": "Phah3h0MfiH1"
      },
      "source": [
        "b"
      ],
      "execution_count": null,
      "outputs": []
    },
    {
      "cell_type": "code",
      "metadata": {
        "colab": {
          "background_save": true
        },
        "id": "CkH2dhjWf0CD"
      },
      "source": [
        "np.savetxt('sample.csv', a)"
      ],
      "execution_count": null,
      "outputs": []
    },
    {
      "cell_type": "code",
      "metadata": {
        "colab": {
          "background_save": true
        },
        "id": "-qqHnfHOf5dw"
      },
      "source": [
        "c = np.loadtxt('sample.csv')\n"
      ],
      "execution_count": null,
      "outputs": []
    },
    {
      "cell_type": "code",
      "metadata": {
        "colab": {
          "background_save": true
        },
        "id": "ijQV-o9Xf7Oi"
      },
      "source": [
        "a"
      ],
      "execution_count": null,
      "outputs": []
    },
    {
      "cell_type": "code",
      "metadata": {
        "colab": {
          "background_save": true
        },
        "id": "WfRtqQgHf9An"
      },
      "source": [
        "np.savetxt('sample2.txt', a, delimiter=',')"
      ],
      "execution_count": null,
      "outputs": []
    },
    {
      "cell_type": "code",
      "metadata": {
        "colab": {
          "background_save": true
        },
        "id": "MOGQMwu5gE1v"
      },
      "source": [
        "e = np.loadtxt('sample2.txt')"
      ],
      "execution_count": null,
      "outputs": []
    },
    {
      "cell_type": "code",
      "metadata": {
        "colab": {
          "background_save": true
        },
        "id": "03wqEN0mhWE9"
      },
      "source": [
        " e = np.loadtxt('sample2.txt', delimiter=',')\n"
      ],
      "execution_count": null,
      "outputs": []
    },
    {
      "cell_type": "code",
      "metadata": {
        "colab": {
          "background_save": true
        },
        "id": "6oDBpPlshbcU"
      },
      "source": [
        "e"
      ],
      "execution_count": null,
      "outputs": []
    },
    {
      "cell_type": "code",
      "metadata": {
        "colab": {
          "background_save": true
        },
        "id": "mUE1XjhGhcqE"
      },
      "source": [
        "np.savetxt('sample3.txt', a, fmt ='%.2e')"
      ],
      "execution_count": null,
      "outputs": []
    },
    {
      "cell_type": "code",
      "metadata": {
        "colab": {
          "background_save": true
        },
        "id": "RLfR-N1BiUG8"
      },
      "source": [
        "np.savetxt('sample4.txt', a, fmt ='%.2f')"
      ],
      "execution_count": null,
      "outputs": []
    },
    {
      "cell_type": "code",
      "metadata": {
        "colab": {
          "background_save": true
        },
        "id": "qoOfJN03iubE"
      },
      "source": [
        "f = np.array([[10.1+3.21j,100+32.1j],[20.0+0.2j, 22.1-1j]]) "
      ],
      "execution_count": null,
      "outputs": []
    },
    {
      "cell_type": "code",
      "metadata": {
        "colab": {
          "background_save": true
        },
        "id": "axdZU5OClzIf"
      },
      "source": [
        "np.savetxt('sample6.txt', f, fmt= ['%.3e + %.3ej', '%.1e + %.1ej'])"
      ],
      "execution_count": null,
      "outputs": []
    },
    {
      "cell_type": "code",
      "metadata": {
        "colab": {
          "background_save": true
        },
        "id": "PL0E4P-4mCWu"
      },
      "source": [
        "np.loadtxt('sample4.txt', usecols = (0,2))"
      ],
      "execution_count": null,
      "outputs": []
    },
    {
      "cell_type": "code",
      "metadata": {
        "colab": {
          "background_save": true
        },
        "id": "N5miPnHkmQ4p"
      },
      "source": [
        " np.loadtxt('sample4.txt')"
      ],
      "execution_count": null,
      "outputs": []
    },
    {
      "cell_type": "code",
      "metadata": {
        "colab": {
          "background_save": true
        },
        "id": "XoAkXb5rmeOi"
      },
      "source": [
        "np.savetxt('sample7.txt', a, fmt ='%.3e', header='this is a header',footer='this is a footer')\n"
      ],
      "execution_count": null,
      "outputs": []
    },
    {
      "cell_type": "code",
      "metadata": {
        "colab": {
          "background_save": true
        },
        "id": "8qKpmKvkmlTs"
      },
      "source": [
        "np.savetxt('sample8.txt', a, fmt ='%.3e', header='this is a header',footer='this is a footer', comments='>>>')"
      ],
      "execution_count": null,
      "outputs": []
    },
    {
      "cell_type": "code",
      "metadata": {
        "colab": {
          "background_save": true
        },
        "id": "Szb_pFXPm1Al"
      },
      "source": [
        "np.loadtxt('sample8.txt', comments='>>>')"
      ],
      "execution_count": null,
      "outputs": []
    },
    {
      "cell_type": "code",
      "metadata": {
        "colab": {
          "background_save": true
        },
        "id": "hEQtj6Fmm3Vk"
      },
      "source": [
        "np.loadtxt('foo.csv', dtype=[('col1', 'i8'), ('col2', 'S10'), ('col3', 'f8'), ('col4', 'S10')])"
      ],
      "execution_count": null,
      "outputs": []
    },
    {
      "cell_type": "code",
      "metadata": {
        "colab": {
          "background_save": true
        },
        "id": "hANNTfJ2p205"
      },
      "source": [
        "import numpy as np"
      ],
      "execution_count": null,
      "outputs": []
    },
    {
      "cell_type": "code",
      "metadata": {
        "colab": {
          "background_save": true
        },
        "id": "wh_2GJeXnTu2"
      },
      "source": [
        "import wave"
      ],
      "execution_count": null,
      "outputs": []
    },
    {
      "cell_type": "code",
      "metadata": {
        "colab": {
          "background_save": true
        },
        "id": "NaR_Q0jCp-I2"
      },
      "source": [
        "wf = wave.open('sample_sound.wav')"
      ],
      "execution_count": null,
      "outputs": []
    },
    {
      "cell_type": "code",
      "metadata": {
        "colab": {
          "background_save": true
        },
        "id": "_aPcmjGNqAdC"
      },
      "source": [
        "wf = wave.open('sample_sound.wav')"
      ],
      "execution_count": null,
      "outputs": []
    },
    {
      "cell_type": "code",
      "metadata": {
        "colab": {
          "background_save": true
        },
        "id": "lDUtObQksiJ_"
      },
      "source": [
        "import numpy as np"
      ],
      "execution_count": null,
      "outputs": []
    },
    {
      "cell_type": "code",
      "metadata": {
        "colab": {
          "background_save": true
        },
        "id": "pH7EWmSjxFkn"
      },
      "source": [
        "a = np.random.randint(0, 10, size=20)\n"
      ],
      "execution_count": null,
      "outputs": []
    },
    {
      "cell_type": "code",
      "metadata": {
        "colab": {
          "background_save": true
        },
        "id": "8ADEgTWxxHgw"
      },
      "source": [
        "a"
      ],
      "execution_count": null,
      "outputs": []
    },
    {
      "cell_type": "code",
      "metadata": {
        "colab": {
          "background_save": true
        },
        "id": "sOqI9yD5xIWy"
      },
      "source": [
        "np.nonzero(a)"
      ],
      "execution_count": null,
      "outputs": []
    },
    {
      "cell_type": "code",
      "metadata": {
        "colab": {
          "background_save": true
        },
        "id": "Nrk9Bb9cxLj-"
      },
      "source": [
        "a[np.nonzero(a)]"
      ],
      "execution_count": null,
      "outputs": []
    },
    {
      "cell_type": "code",
      "metadata": {
        "colab": {
          "background_save": true
        },
        "id": "UHmaHLIwxOeD"
      },
      "source": [
        " b = np.random.randint(0, 10, size= (4,5))"
      ],
      "execution_count": null,
      "outputs": []
    },
    {
      "cell_type": "code",
      "metadata": {
        "colab": {
          "background_save": true
        },
        "id": "sgabBktcxS1A"
      },
      "source": [
        "b"
      ],
      "execution_count": null,
      "outputs": []
    },
    {
      "cell_type": "code",
      "metadata": {
        "colab": {
          "background_save": true
        },
        "id": "vA1D9451xTwu"
      },
      "source": [
        "np.nonzero(b) "
      ],
      "execution_count": null,
      "outputs": []
    },
    {
      "cell_type": "code",
      "metadata": {
        "colab": {
          "background_save": true
        },
        "id": "xB9Fl8zfxXvO"
      },
      "source": [
        "b.nonzero()"
      ],
      "execution_count": null,
      "outputs": []
    },
    {
      "cell_type": "code",
      "metadata": {
        "colab": {
          "background_save": true
        },
        "id": "qVOowcuMxoHb"
      },
      "source": [
        "a = np.random.randint(0, 10, size=(100, 100))"
      ],
      "execution_count": null,
      "outputs": []
    },
    {
      "cell_type": "code",
      "metadata": {
        "colab": {
          "background_save": true
        },
        "id": "zXZuYnSrxuIR"
      },
      "source": [
        "b = np.ones(shape=(100, 100))"
      ],
      "execution_count": null,
      "outputs": []
    },
    {
      "cell_type": "code",
      "metadata": {
        "colab": {
          "background_save": true
        },
        "id": "OP3wjylox0W3"
      },
      "source": [
        "a"
      ],
      "execution_count": null,
      "outputs": []
    },
    {
      "cell_type": "code",
      "metadata": {
        "colab": {
          "background_save": true
        },
        "id": "lMBe6qdjx4iR"
      },
      "source": [
        "len(b)"
      ],
      "execution_count": null,
      "outputs": []
    },
    {
      "cell_type": "code",
      "metadata": {
        "colab": {
          "background_save": true
        },
        "id": "3oSYSqtPxwrz"
      },
      "source": [
        "np.where(a != 0, a, b)"
      ],
      "execution_count": null,
      "outputs": []
    },
    {
      "cell_type": "code",
      "metadata": {
        "colab": {
          "background_save": true
        },
        "id": "1773SoscxzEY"
      },
      "source": [
        "import numpy as np"
      ],
      "execution_count": null,
      "outputs": []
    },
    {
      "cell_type": "code",
      "metadata": {
        "colab": {
          "background_save": true
        },
        "id": "JSJaFBy8ySVq"
      },
      "source": [
        "a = np.random.randint(0, 10, size=(100, 100))"
      ],
      "execution_count": null,
      "outputs": []
    },
    {
      "cell_type": "code",
      "metadata": {
        "colab": {
          "background_save": true
        },
        "id": "MPVkgsjeyUrS"
      },
      "source": [
        "a"
      ],
      "execution_count": null,
      "outputs": []
    },
    {
      "cell_type": "code",
      "metadata": {
        "colab": {
          "background_save": true
        },
        "id": "HK0S1eqvyVfG"
      },
      "source": [
        "a.shape"
      ],
      "execution_count": null,
      "outputs": []
    },
    {
      "cell_type": "code",
      "metadata": {
        "colab": {
          "background_save": true
        },
        "id": "YUMoPoJCyXHs"
      },
      "source": [
        "np.nonzero(a)"
      ],
      "execution_count": null,
      "outputs": []
    },
    {
      "cell_type": "code",
      "metadata": {
        "colab": {
          "background_save": true
        },
        "id": "3DktGMRzywJX"
      },
      "source": [
        "np.argwhere(a != [0])\n"
      ],
      "execution_count": null,
      "outputs": []
    },
    {
      "cell_type": "code",
      "metadata": {
        "colab": {
          "background_save": true
        },
        "id": "O2yjF_VYy-d_"
      },
      "source": [
        "a = np.arange(10).reshape(2,5)"
      ],
      "execution_count": null,
      "outputs": []
    },
    {
      "cell_type": "code",
      "metadata": {
        "colab": {
          "background_save": true
        },
        "id": "m7fdeK4P5hxp"
      },
      "source": [
        "a"
      ],
      "execution_count": null,
      "outputs": []
    },
    {
      "cell_type": "code",
      "metadata": {
        "colab": {
          "background_save": true
        },
        "id": "rkE4HYFm5i3W"
      },
      "source": [
        "a.ravel()"
      ],
      "execution_count": null,
      "outputs": []
    },
    {
      "cell_type": "code",
      "metadata": {
        "colab": {
          "background_save": true
        },
        "id": "WPo8X0-K5nXP"
      },
      "source": [
        "a.ravel(order='C')"
      ],
      "execution_count": null,
      "outputs": []
    },
    {
      "cell_type": "code",
      "metadata": {
        "colab": {
          "background_save": true
        },
        "id": "uaLktltJ5uHO"
      },
      "source": [
        "a.ravel(order='F')"
      ],
      "execution_count": null,
      "outputs": []
    },
    {
      "cell_type": "code",
      "metadata": {
        "colab": {
          "background_save": true
        },
        "id": "MKqoRnN35xM2"
      },
      "source": [
        "a.shape"
      ],
      "execution_count": null,
      "outputs": []
    },
    {
      "cell_type": "code",
      "metadata": {
        "colab": {
          "background_save": true
        },
        "id": "ytjIlUL851_S"
      },
      "source": [
        "a = np.array([0, 1, 2])"
      ],
      "execution_count": null,
      "outputs": []
    },
    {
      "cell_type": "code",
      "metadata": {
        "colab": {
          "background_save": true
        },
        "id": "55sO0pZB6dsK"
      },
      "source": [
        "np.tile(a,(3,2))"
      ],
      "execution_count": null,
      "outputs": []
    },
    {
      "cell_type": "code",
      "metadata": {
        "colab": {
          "background_save": true
        },
        "id": "l6pUP7FP6klX"
      },
      "source": [
        "b = np.arange(6).reshape(2,3) "
      ],
      "execution_count": null,
      "outputs": []
    },
    {
      "cell_type": "code",
      "metadata": {
        "colab": {
          "background_save": true
        },
        "id": "vrjk8u6j6t-o"
      },
      "source": [
        "b"
      ],
      "execution_count": null,
      "outputs": []
    },
    {
      "cell_type": "code",
      "metadata": {
        "colab": {
          "background_save": true
        },
        "id": "f8zi26Xy6ujZ"
      },
      "source": [
        "np.tile(b, 2)\n"
      ],
      "execution_count": null,
      "outputs": []
    },
    {
      "cell_type": "code",
      "metadata": {
        "colab": {
          "background_save": true
        },
        "id": "Lxrb2MI76zJf"
      },
      "source": [
        "np.newaxis is None"
      ],
      "execution_count": null,
      "outputs": []
    },
    {
      "cell_type": "code",
      "metadata": {
        "colab": {
          "background_save": true
        },
        "id": "nMxHps9Y7ooC"
      },
      "source": [
        "a = np.arange(1, 11, 1)"
      ],
      "execution_count": null,
      "outputs": []
    },
    {
      "cell_type": "code",
      "metadata": {
        "colab": {
          "background_save": true
        },
        "id": "Bmuv7Kk9LaXU"
      },
      "source": [
        "b = np.array([1,2,1,2,1,2,1,2,1,2])"
      ],
      "execution_count": null,
      "outputs": []
    },
    {
      "cell_type": "code",
      "metadata": {
        "colab": {
          "background_save": true
        },
        "id": "cfNIEKKtLcUf"
      },
      "source": [
        "import numpy as np"
      ],
      "execution_count": null,
      "outputs": []
    },
    {
      "cell_type": "code",
      "metadata": {
        "colab": {
          "background_save": true
        },
        "id": "8VSp00JPLgvc"
      },
      "source": [
        "a = np.arange(1, 11, 1)\n"
      ],
      "execution_count": null,
      "outputs": []
    },
    {
      "cell_type": "code",
      "metadata": {
        "colab": {
          "background_save": true
        },
        "id": "9Uf2kf-uLiJ6"
      },
      "source": [
        " b = np.array([1,2,1,2,1,2,1,2,1,2])\n"
      ],
      "execution_count": null,
      "outputs": []
    },
    {
      "cell_type": "code",
      "metadata": {
        "colab": {
          "background_save": true
        },
        "id": "ZJdGKFdOLjoJ"
      },
      "source": [
        "a.shape"
      ],
      "execution_count": null,
      "outputs": []
    },
    {
      "cell_type": "code",
      "metadata": {
        "colab": {
          "background_save": true
        },
        "id": "bDr88HLwLp0N"
      },
      "source": [
        "np.power(a, b)"
      ],
      "execution_count": null,
      "outputs": []
    },
    {
      "cell_type": "code",
      "metadata": {
        "colab": {
          "background_save": true
        },
        "id": "vOKkzVW9Lx8M"
      },
      "source": [
        "a ** b"
      ],
      "execution_count": null,
      "outputs": []
    },
    {
      "cell_type": "code",
      "metadata": {
        "colab": {
          "background_save": true
        },
        "id": "IfrMdT7TLzqk"
      },
      "source": [
        "np.sin(0)"
      ],
      "execution_count": null,
      "outputs": []
    },
    {
      "cell_type": "code",
      "metadata": {
        "colab": {
          "background_save": true
        },
        "id": "W_AiG-6wNj1C"
      },
      "source": [
        "np.sin(np.pi*0.5) "
      ],
      "execution_count": null,
      "outputs": []
    },
    {
      "cell_type": "code",
      "metadata": {
        "colab": {
          "background_save": true
        },
        "id": "aGGmRq6_NnLy"
      },
      "source": [
        "np.sin(np.pi*1.5)"
      ],
      "execution_count": null,
      "outputs": []
    },
    {
      "cell_type": "code",
      "metadata": {
        "colab": {
          "background_save": true
        },
        "id": "a_bzBqZ1PZ_J"
      },
      "source": [
        "np.tan(np.pi*0.44)"
      ],
      "execution_count": null,
      "outputs": []
    },
    {
      "cell_type": "code",
      "metadata": {
        "colab": {
          "background_save": true
        },
        "id": "epEReiIhPwuW"
      },
      "source": [
        "np.log(np.e)"
      ],
      "execution_count": null,
      "outputs": []
    },
    {
      "cell_type": "code",
      "metadata": {
        "colab": {
          "background_save": true
        },
        "id": "YBIf74C1TifJ"
      },
      "source": [
        " a = np.array([1., 2., np.e**2, 10])"
      ],
      "execution_count": null,
      "outputs": []
    },
    {
      "cell_type": "code",
      "metadata": {
        "colab": {
          "background_save": true
        },
        "id": "8oAMh1W0Tmsi"
      },
      "source": [
        "a"
      ],
      "execution_count": null,
      "outputs": []
    },
    {
      "cell_type": "code",
      "metadata": {
        "colab": {
          "background_save": true
        },
        "id": "v8FP68lGToi1"
      },
      "source": [
        "np.log(a)"
      ],
      "execution_count": null,
      "outputs": []
    },
    {
      "cell_type": "code",
      "metadata": {
        "colab": {
          "background_save": true
        },
        "id": "1jEsq3WrT4R9"
      },
      "source": [
        "b = np.array([1., 2., 4., 7])"
      ],
      "execution_count": null,
      "outputs": []
    },
    {
      "cell_type": "code",
      "metadata": {
        "id": "ignl06Q4VeWO"
      },
      "source": [
        "c = np.array([1., 10., 20., 100])\n"
      ],
      "execution_count": null,
      "outputs": []
    },
    {
      "cell_type": "code",
      "metadata": {
        "id": "rRJYiCXWVoWT"
      },
      "source": [
        ""
      ],
      "execution_count": null,
      "outputs": []
    }
  ]
}